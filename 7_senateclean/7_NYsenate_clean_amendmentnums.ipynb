{
 "cells": [
  {
   "cell_type": "code",
   "execution_count": 1,
   "metadata": {},
   "outputs": [],
   "source": [
    "import pandas as pd\n",
    "from pprint import pprint\n",
    "import numpy as np"
   ]
  },
  {
   "cell_type": "code",
   "execution_count": 2,
   "metadata": {},
   "outputs": [],
   "source": [
    "#Set Up PyMongo\n",
    "from pymongo import MongoClient\n",
    "\n",
    "client = MongoClient()\n",
    "db = client.ny_senate_db\n",
    "\n",
    "db.collection_names()\n",
    "col = db.senate_total"
   ]
  },
  {
   "cell_type": "code",
   "execution_count": 3,
   "metadata": {},
   "outputs": [],
   "source": [
    "data = pd.DataFrame(list(col.find()))\n",
    "# col.count()"
   ]
  },
  {
   "cell_type": "code",
   "execution_count": 4,
   "metadata": {},
   "outputs": [],
   "source": [
    "# pprint(col.find_one({'votes.size':{\"$gt\":2}})['amendments']['items']['']['fullText']) #['size']"
   ]
  },
  {
   "cell_type": "code",
   "execution_count": 5,
   "metadata": {},
   "outputs": [],
   "source": [
    "# texts = col.find({})\n",
    "# print(type(list(texts)))\n",
    "# pprint(texts[1])\n",
    "# data = pd.DataFrame(texts)"
   ]
  },
  {
   "cell_type": "code",
   "execution_count": 6,
   "metadata": {},
   "outputs": [
    {
     "data": {
      "text/plain": [
       "(133103, 31)"
      ]
     },
     "execution_count": 6,
     "metadata": {},
     "output_type": "execute_result"
    }
   ],
   "source": [
    "data.shape"
   ]
  },
  {
   "cell_type": "code",
   "execution_count": 73,
   "metadata": {},
   "outputs": [
    {
     "data": {
      "text/html": [
       "<div>\n",
       "<style scoped>\n",
       "    .dataframe tbody tr th:only-of-type {\n",
       "        vertical-align: middle;\n",
       "    }\n",
       "\n",
       "    .dataframe tbody tr th {\n",
       "        vertical-align: top;\n",
       "    }\n",
       "\n",
       "    .dataframe thead th {\n",
       "        text-align: right;\n",
       "    }\n",
       "</style>\n",
       "<table border=\"1\" class=\"dataframe\">\n",
       "  <thead>\n",
       "    <tr style=\"text-align: right;\">\n",
       "      <th></th>\n",
       "      <th>_id</th>\n",
       "      <th>actions</th>\n",
       "      <th>activeVersion</th>\n",
       "      <th>additionalSponsors</th>\n",
       "      <th>adopted</th>\n",
       "      <th>amendmentVersions</th>\n",
       "      <th>amendments</th>\n",
       "      <th>approvalMessage</th>\n",
       "      <th>basePrintNo</th>\n",
       "      <th>basePrintNoStr</th>\n",
       "      <th>...</th>\n",
       "      <th>signed</th>\n",
       "      <th>sponsor</th>\n",
       "      <th>status</th>\n",
       "      <th>substitutedBy</th>\n",
       "      <th>summary</th>\n",
       "      <th>title</th>\n",
       "      <th>vetoMessages</th>\n",
       "      <th>vetoed</th>\n",
       "      <th>votes</th>\n",
       "      <th>year</th>\n",
       "    </tr>\n",
       "  </thead>\n",
       "  <tbody>\n",
       "    <tr>\n",
       "      <th>42967</th>\n",
       "      <td>5b1c14e85a67a40cd34878d8</td>\n",
       "      <td>{'items': [{'billId': {'basePrintNo': 'A7379',...</td>\n",
       "      <td>A</td>\n",
       "      <td>{'items': [], 'size': 0}</td>\n",
       "      <td>False</td>\n",
       "      <td>{'items': ['', 'A'], 'size': 2}</td>\n",
       "      <td>{'items': {'': {'basePrintNo': 'A7379', 'sessi...</td>\n",
       "      <td>None</td>\n",
       "      <td>A7379</td>\n",
       "      <td>A7379-2011</td>\n",
       "      <td>...</td>\n",
       "      <td>False</td>\n",
       "      <td>{'member': {'memberId': 504, 'sessionMemberId'...</td>\n",
       "      <td>{'statusType': 'IN_SENATE_COMM', 'statusDesc':...</td>\n",
       "      <td>None</td>\n",
       "      <td>Provides for the issuance of a Cold War Certif...</td>\n",
       "      <td>Provides to the issuance of a Cold War Certifi...</td>\n",
       "      <td>{'items': [], 'size': 0}</td>\n",
       "      <td>False</td>\n",
       "      <td>{'items': [], 'size': 0}</td>\n",
       "      <td>2011</td>\n",
       "    </tr>\n",
       "  </tbody>\n",
       "</table>\n",
       "<p>1 rows × 31 columns</p>\n",
       "</div>"
      ],
      "text/plain": [
       "                            _id  \\\n",
       "42967  5b1c14e85a67a40cd34878d8   \n",
       "\n",
       "                                                 actions activeVersion  \\\n",
       "42967  {'items': [{'billId': {'basePrintNo': 'A7379',...             A   \n",
       "\n",
       "             additionalSponsors  adopted                amendmentVersions  \\\n",
       "42967  {'items': [], 'size': 0}    False  {'items': ['', 'A'], 'size': 2}   \n",
       "\n",
       "                                              amendments approvalMessage  \\\n",
       "42967  {'items': {'': {'basePrintNo': 'A7379', 'sessi...            None   \n",
       "\n",
       "      basePrintNo basePrintNoStr  ...  signed  \\\n",
       "42967       A7379     A7379-2011  ...   False   \n",
       "\n",
       "                                                 sponsor  \\\n",
       "42967  {'member': {'memberId': 504, 'sessionMemberId'...   \n",
       "\n",
       "                                                  status substitutedBy  \\\n",
       "42967  {'statusType': 'IN_SENATE_COMM', 'statusDesc':...          None   \n",
       "\n",
       "                                                 summary  \\\n",
       "42967  Provides for the issuance of a Cold War Certif...   \n",
       "\n",
       "                                                   title  \\\n",
       "42967  Provides to the issuance of a Cold War Certifi...   \n",
       "\n",
       "                   vetoMessages vetoed                     votes  year  \n",
       "42967  {'items': [], 'size': 0}  False  {'items': [], 'size': 0}  2011  \n",
       "\n",
       "[1 rows x 31 columns]"
      ]
     },
     "execution_count": 73,
     "metadata": {},
     "output_type": "execute_result"
    }
   ],
   "source": [
    "data.sample()"
   ]
  },
  {
   "cell_type": "code",
   "execution_count": 95,
   "metadata": {},
   "outputs": [],
   "source": [
    "pd.to_pickle(data,\"senate_master\")"
   ]
  },
  {
   "cell_type": "code",
   "execution_count": 86,
   "metadata": {
    "scrolled": true
   },
   "outputs": [
    {
     "data": {
      "text/html": [
       "<div>\n",
       "<style scoped>\n",
       "    .dataframe tbody tr th:only-of-type {\n",
       "        vertical-align: middle;\n",
       "    }\n",
       "\n",
       "    .dataframe tbody tr th {\n",
       "        vertical-align: top;\n",
       "    }\n",
       "\n",
       "    .dataframe thead th {\n",
       "        text-align: right;\n",
       "    }\n",
       "</style>\n",
       "<table border=\"1\" class=\"dataframe\">\n",
       "  <thead>\n",
       "    <tr style=\"text-align: right;\">\n",
       "      <th></th>\n",
       "      <th>_id</th>\n",
       "      <th>amendmentVersions</th>\n",
       "    </tr>\n",
       "  </thead>\n",
       "  <tbody>\n",
       "    <tr>\n",
       "      <th>0</th>\n",
       "      <td>5b1c11c75a67a40cd347d101</td>\n",
       "      <td>{'items': [''], 'size': 1}</td>\n",
       "    </tr>\n",
       "    <tr>\n",
       "      <th>1</th>\n",
       "      <td>5b1c11ca5a67a40cd347d102</td>\n",
       "      <td>{'items': [''], 'size': 1}</td>\n",
       "    </tr>\n",
       "    <tr>\n",
       "      <th>2</th>\n",
       "      <td>5b1c11ca5a67a40cd347d103</td>\n",
       "      <td>{'items': [''], 'size': 1}</td>\n",
       "    </tr>\n",
       "    <tr>\n",
       "      <th>3</th>\n",
       "      <td>5b1c11ca5a67a40cd347d104</td>\n",
       "      <td>{'items': [''], 'size': 1}</td>\n",
       "    </tr>\n",
       "    <tr>\n",
       "      <th>4</th>\n",
       "      <td>5b1c11ca5a67a40cd347d105</td>\n",
       "      <td>{'items': [''], 'size': 1}</td>\n",
       "    </tr>\n",
       "    <tr>\n",
       "      <th>5</th>\n",
       "      <td>5b1c11ca5a67a40cd347d106</td>\n",
       "      <td>{'items': [''], 'size': 1}</td>\n",
       "    </tr>\n",
       "    <tr>\n",
       "      <th>6</th>\n",
       "      <td>5b1c11ca5a67a40cd347d107</td>\n",
       "      <td>{'items': [''], 'size': 1}</td>\n",
       "    </tr>\n",
       "    <tr>\n",
       "      <th>7</th>\n",
       "      <td>5b1c11ca5a67a40cd347d108</td>\n",
       "      <td>{'items': [''], 'size': 1}</td>\n",
       "    </tr>\n",
       "    <tr>\n",
       "      <th>8</th>\n",
       "      <td>5b1c11ca5a67a40cd347d109</td>\n",
       "      <td>{'items': [''], 'size': 1}</td>\n",
       "    </tr>\n",
       "    <tr>\n",
       "      <th>9</th>\n",
       "      <td>5b1c11ca5a67a40cd347d10a</td>\n",
       "      <td>{'items': [''], 'size': 1}</td>\n",
       "    </tr>\n",
       "  </tbody>\n",
       "</table>\n",
       "</div>"
      ],
      "text/plain": [
       "                        _id           amendmentVersions\n",
       "0  5b1c11c75a67a40cd347d101  {'items': [''], 'size': 1}\n",
       "1  5b1c11ca5a67a40cd347d102  {'items': [''], 'size': 1}\n",
       "2  5b1c11ca5a67a40cd347d103  {'items': [''], 'size': 1}\n",
       "3  5b1c11ca5a67a40cd347d104  {'items': [''], 'size': 1}\n",
       "4  5b1c11ca5a67a40cd347d105  {'items': [''], 'size': 1}\n",
       "5  5b1c11ca5a67a40cd347d106  {'items': [''], 'size': 1}\n",
       "6  5b1c11ca5a67a40cd347d107  {'items': [''], 'size': 1}\n",
       "7  5b1c11ca5a67a40cd347d108  {'items': [''], 'size': 1}\n",
       "8  5b1c11ca5a67a40cd347d109  {'items': [''], 'size': 1}\n",
       "9  5b1c11ca5a67a40cd347d10a  {'items': [''], 'size': 1}"
      ]
     },
     "execution_count": 86,
     "metadata": {},
     "output_type": "execute_result"
    }
   ],
   "source": [
    "data_amendmentversions = data[['_id','amendmentVersions']]\n",
    "data_amendmentversions.head(10)"
   ]
  },
  {
   "cell_type": "code",
   "execution_count": 90,
   "metadata": {},
   "outputs": [],
   "source": [
    "def extractamendments(row):\n",
    "    size = int(row['amendmentVersions']['size'])\n",
    "    row['amendmentNum'] = size\n",
    "    return row"
   ]
  },
  {
   "cell_type": "code",
   "execution_count": 91,
   "metadata": {},
   "outputs": [],
   "source": [
    "data_amendmentversions = data_amendmentversions.apply(extractamendments,axis=1)"
   ]
  },
  {
   "cell_type": "code",
   "execution_count": 92,
   "metadata": {},
   "outputs": [
    {
     "data": {
      "text/html": [
       "<div>\n",
       "<style scoped>\n",
       "    .dataframe tbody tr th:only-of-type {\n",
       "        vertical-align: middle;\n",
       "    }\n",
       "\n",
       "    .dataframe tbody tr th {\n",
       "        vertical-align: top;\n",
       "    }\n",
       "\n",
       "    .dataframe thead th {\n",
       "        text-align: right;\n",
       "    }\n",
       "</style>\n",
       "<table border=\"1\" class=\"dataframe\">\n",
       "  <thead>\n",
       "    <tr style=\"text-align: right;\">\n",
       "      <th></th>\n",
       "      <th>_id</th>\n",
       "      <th>amendmentVersions</th>\n",
       "      <th>amendmentNum</th>\n",
       "    </tr>\n",
       "  </thead>\n",
       "  <tbody>\n",
       "    <tr>\n",
       "      <th>120367</th>\n",
       "      <td>5b1c1a6a5a67a40cd349a730</td>\n",
       "      <td>{'items': [''], 'size': 1}</td>\n",
       "      <td>1</td>\n",
       "    </tr>\n",
       "    <tr>\n",
       "      <th>79215</th>\n",
       "      <td>5b1c176b5a67a40cd3490670</td>\n",
       "      <td>{'items': [''], 'size': 1}</td>\n",
       "      <td>1</td>\n",
       "    </tr>\n",
       "    <tr>\n",
       "      <th>104764</th>\n",
       "      <td>5b1c195f5a67a40cd3496a3d</td>\n",
       "      <td>{'items': ['', 'A'], 'size': 2}</td>\n",
       "      <td>2</td>\n",
       "    </tr>\n",
       "    <tr>\n",
       "      <th>127977</th>\n",
       "      <td>5b1c1ae55a67a40cd349c4ea</td>\n",
       "      <td>{'items': [''], 'size': 1}</td>\n",
       "      <td>1</td>\n",
       "    </tr>\n",
       "    <tr>\n",
       "      <th>16788</th>\n",
       "      <td>5b1c12ef5a67a40cd3481295</td>\n",
       "      <td>{'items': [''], 'size': 1}</td>\n",
       "      <td>1</td>\n",
       "    </tr>\n",
       "  </tbody>\n",
       "</table>\n",
       "</div>"
      ],
      "text/plain": [
       "                             _id                amendmentVersions  \\\n",
       "120367  5b1c1a6a5a67a40cd349a730       {'items': [''], 'size': 1}   \n",
       "79215   5b1c176b5a67a40cd3490670       {'items': [''], 'size': 1}   \n",
       "104764  5b1c195f5a67a40cd3496a3d  {'items': ['', 'A'], 'size': 2}   \n",
       "127977  5b1c1ae55a67a40cd349c4ea       {'items': [''], 'size': 1}   \n",
       "16788   5b1c12ef5a67a40cd3481295       {'items': [''], 'size': 1}   \n",
       "\n",
       "        amendmentNum  \n",
       "120367             1  \n",
       "79215              1  \n",
       "104764             2  \n",
       "127977             1  \n",
       "16788              1  "
      ]
     },
     "execution_count": 92,
     "metadata": {},
     "output_type": "execute_result"
    }
   ],
   "source": [
    "data_amendmentversions.sample(5)"
   ]
  },
  {
   "cell_type": "code",
   "execution_count": 94,
   "metadata": {},
   "outputs": [],
   "source": [
    "data_amendmentversions = data_amendmentversions[['_id','amendmentNum']]\n",
    "pd.to_pickle(data_amendmentversions,\"data_amendmentversions\")"
   ]
  },
  {
   "cell_type": "code",
   "execution_count": null,
   "metadata": {},
   "outputs": [],
   "source": []
  }
 ],
 "metadata": {
  "kernelspec": {
   "display_name": "Python 3",
   "language": "python",
   "name": "python3"
  },
  "language_info": {
   "codemirror_mode": {
    "name": "ipython",
    "version": 3
   },
   "file_extension": ".py",
   "mimetype": "text/x-python",
   "name": "python",
   "nbconvert_exporter": "python",
   "pygments_lexer": "ipython3",
   "version": "3.6.4"
  }
 },
 "nbformat": 4,
 "nbformat_minor": 2
}
