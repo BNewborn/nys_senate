{
 "cells": [
  {
   "cell_type": "code",
   "execution_count": 1,
   "metadata": {},
   "outputs": [],
   "source": [
    "import pandas as pd\n",
    "from pprint import pprint\n",
    "import numpy as np\n",
    "from IPython.display import clear_output"
   ]
  },
  {
   "cell_type": "code",
   "execution_count": 2,
   "metadata": {},
   "outputs": [],
   "source": [
    "pd.options.display.max_columns = 999"
   ]
  },
  {
   "cell_type": "code",
   "execution_count": 3,
   "metadata": {},
   "outputs": [],
   "source": [
    "data = pd.read_pickle(\"senate_raw\")"
   ]
  },
  {
   "cell_type": "code",
   "execution_count": 4,
   "metadata": {},
   "outputs": [
    {
     "data": {
      "text/plain": [
       "(133103, 31)"
      ]
     },
     "execution_count": 4,
     "metadata": {},
     "output_type": "execute_result"
    }
   ],
   "source": [
    "data.shape"
   ]
  },
  {
   "cell_type": "code",
   "execution_count": 5,
   "metadata": {},
   "outputs": [
    {
     "data": {
      "text/html": [
       "<div>\n",
       "<style scoped>\n",
       "    .dataframe tbody tr th:only-of-type {\n",
       "        vertical-align: middle;\n",
       "    }\n",
       "\n",
       "    .dataframe tbody tr th {\n",
       "        vertical-align: top;\n",
       "    }\n",
       "\n",
       "    .dataframe thead th {\n",
       "        text-align: right;\n",
       "    }\n",
       "</style>\n",
       "<table border=\"1\" class=\"dataframe\">\n",
       "  <thead>\n",
       "    <tr style=\"text-align: right;\">\n",
       "      <th></th>\n",
       "      <th>_id</th>\n",
       "      <th>actions</th>\n",
       "      <th>activeVersion</th>\n",
       "      <th>additionalSponsors</th>\n",
       "      <th>adopted</th>\n",
       "      <th>amendmentVersions</th>\n",
       "      <th>amendments</th>\n",
       "      <th>approvalMessage</th>\n",
       "      <th>basePrintNo</th>\n",
       "      <th>basePrintNoStr</th>\n",
       "      <th>billType</th>\n",
       "      <th>calendars</th>\n",
       "      <th>committeeAgendas</th>\n",
       "      <th>milestones</th>\n",
       "      <th>pastCommittees</th>\n",
       "      <th>previousVersions</th>\n",
       "      <th>printNo</th>\n",
       "      <th>programInfo</th>\n",
       "      <th>publishStatusMap</th>\n",
       "      <th>publishedDateTime</th>\n",
       "      <th>session</th>\n",
       "      <th>signed</th>\n",
       "      <th>sponsor</th>\n",
       "      <th>status</th>\n",
       "      <th>substitutedBy</th>\n",
       "      <th>summary</th>\n",
       "      <th>title</th>\n",
       "      <th>vetoMessages</th>\n",
       "      <th>vetoed</th>\n",
       "      <th>votes</th>\n",
       "      <th>year</th>\n",
       "    </tr>\n",
       "  </thead>\n",
       "  <tbody>\n",
       "    <tr>\n",
       "      <th>27826</th>\n",
       "      <td>5b1c13955a67a40cd3483db3</td>\n",
       "      <td>{'items': [{'billId': {'basePrintNo': 'J6377',...</td>\n",
       "      <td></td>\n",
       "      <td>{'items': [], 'size': 0}</td>\n",
       "      <td>True</td>\n",
       "      <td>{'items': [''], 'size': 1}</td>\n",
       "      <td>{'items': {'': {'basePrintNo': 'J6377', 'sessi...</td>\n",
       "      <td>None</td>\n",
       "      <td>J6377</td>\n",
       "      <td>J6377-2009</td>\n",
       "      <td>{'chamber': 'SENATE', 'desc': 'Regular and Joi...</td>\n",
       "      <td>{'items': [], 'size': 0}</td>\n",
       "      <td>{'items': [], 'size': 0}</td>\n",
       "      <td>{'items': [{'statusType': 'ADOPTED', 'statusDe...</td>\n",
       "      <td>{'items': [{'chamber': 'SENATE', 'name': 'Fina...</td>\n",
       "      <td>{'items': [], 'size': 0}</td>\n",
       "      <td>J6377</td>\n",
       "      <td>None</td>\n",
       "      <td>{'items': {'': {'version': '', 'published': Tr...</td>\n",
       "      <td>2010-06-30T10:25:34</td>\n",
       "      <td>2009</td>\n",
       "      <td>False</td>\n",
       "      <td>{'member': {'memberId': 406, 'sessionMemberId'...</td>\n",
       "      <td>{'statusType': 'ADOPTED', 'statusDesc': 'Adopt...</td>\n",
       "      <td>None</td>\n",
       "      <td></td>\n",
       "      <td>Memorializing Governor David A. Paterson to pr...</td>\n",
       "      <td>{'items': [], 'size': 0}</td>\n",
       "      <td>False</td>\n",
       "      <td>{'items': [], 'size': 0}</td>\n",
       "      <td>2010</td>\n",
       "    </tr>\n",
       "  </tbody>\n",
       "</table>\n",
       "</div>"
      ],
      "text/plain": [
       "                            _id  \\\n",
       "27826  5b1c13955a67a40cd3483db3   \n",
       "\n",
       "                                                 actions activeVersion  \\\n",
       "27826  {'items': [{'billId': {'basePrintNo': 'J6377',...                 \n",
       "\n",
       "             additionalSponsors  adopted           amendmentVersions  \\\n",
       "27826  {'items': [], 'size': 0}     True  {'items': [''], 'size': 1}   \n",
       "\n",
       "                                              amendments approvalMessage  \\\n",
       "27826  {'items': {'': {'basePrintNo': 'J6377', 'sessi...            None   \n",
       "\n",
       "      basePrintNo basePrintNoStr  \\\n",
       "27826       J6377     J6377-2009   \n",
       "\n",
       "                                                billType  \\\n",
       "27826  {'chamber': 'SENATE', 'desc': 'Regular and Joi...   \n",
       "\n",
       "                      calendars          committeeAgendas  \\\n",
       "27826  {'items': [], 'size': 0}  {'items': [], 'size': 0}   \n",
       "\n",
       "                                              milestones  \\\n",
       "27826  {'items': [{'statusType': 'ADOPTED', 'statusDe...   \n",
       "\n",
       "                                          pastCommittees  \\\n",
       "27826  {'items': [{'chamber': 'SENATE', 'name': 'Fina...   \n",
       "\n",
       "               previousVersions printNo programInfo  \\\n",
       "27826  {'items': [], 'size': 0}   J6377        None   \n",
       "\n",
       "                                        publishStatusMap    publishedDateTime  \\\n",
       "27826  {'items': {'': {'version': '', 'published': Tr...  2010-06-30T10:25:34   \n",
       "\n",
       "       session  signed                                            sponsor  \\\n",
       "27826     2009   False  {'member': {'memberId': 406, 'sessionMemberId'...   \n",
       "\n",
       "                                                  status substitutedBy  \\\n",
       "27826  {'statusType': 'ADOPTED', 'statusDesc': 'Adopt...          None   \n",
       "\n",
       "      summary                                              title  \\\n",
       "27826          Memorializing Governor David A. Paterson to pr...   \n",
       "\n",
       "                   vetoMessages  vetoed                     votes  year  \n",
       "27826  {'items': [], 'size': 0}   False  {'items': [], 'size': 0}  2010  "
      ]
     },
     "execution_count": 5,
     "metadata": {},
     "output_type": "execute_result"
    }
   ],
   "source": [
    "data.sample()"
   ]
  },
  {
   "cell_type": "code",
   "execution_count": null,
   "metadata": {},
   "outputs": [],
   "source": []
  },
  {
   "cell_type": "code",
   "execution_count": 9,
   "metadata": {},
   "outputs": [
    {
     "data": {
      "text/html": [
       "<div>\n",
       "<style scoped>\n",
       "    .dataframe tbody tr th:only-of-type {\n",
       "        vertical-align: middle;\n",
       "    }\n",
       "\n",
       "    .dataframe tbody tr th {\n",
       "        vertical-align: top;\n",
       "    }\n",
       "\n",
       "    .dataframe thead th {\n",
       "        text-align: right;\n",
       "    }\n",
       "</style>\n",
       "<table border=\"1\" class=\"dataframe\">\n",
       "  <thead>\n",
       "    <tr style=\"text-align: right;\">\n",
       "      <th></th>\n",
       "      <th>basePrintNoStr</th>\n",
       "      <th>substitutedBy</th>\n",
       "    </tr>\n",
       "  </thead>\n",
       "  <tbody>\n",
       "    <tr>\n",
       "      <th>28922</th>\n",
       "      <td>A97-2011</td>\n",
       "      <td>None</td>\n",
       "    </tr>\n",
       "    <tr>\n",
       "      <th>112545</th>\n",
       "      <td>A2550-2017</td>\n",
       "      <td>None</td>\n",
       "    </tr>\n",
       "    <tr>\n",
       "      <th>71690</th>\n",
       "      <td>J2656-2013</td>\n",
       "      <td>None</td>\n",
       "    </tr>\n",
       "    <tr>\n",
       "      <th>100389</th>\n",
       "      <td>A9341-2015</td>\n",
       "      <td>None</td>\n",
       "    </tr>\n",
       "    <tr>\n",
       "      <th>4880</th>\n",
       "      <td>S3302-2009</td>\n",
       "      <td>None</td>\n",
       "    </tr>\n",
       "    <tr>\n",
       "      <th>32513</th>\n",
       "      <td>A2041-2011</td>\n",
       "      <td>None</td>\n",
       "    </tr>\n",
       "    <tr>\n",
       "      <th>93125</th>\n",
       "      <td>A6932-2015</td>\n",
       "      <td>None</td>\n",
       "    </tr>\n",
       "    <tr>\n",
       "      <th>132797</th>\n",
       "      <td>K1294-2017</td>\n",
       "      <td>None</td>\n",
       "    </tr>\n",
       "    <tr>\n",
       "      <th>117958</th>\n",
       "      <td>S4652-2017</td>\n",
       "      <td>None</td>\n",
       "    </tr>\n",
       "    <tr>\n",
       "      <th>53136</th>\n",
       "      <td>J5226-2011</td>\n",
       "      <td>None</td>\n",
       "    </tr>\n",
       "  </tbody>\n",
       "</table>\n",
       "</div>"
      ],
      "text/plain": [
       "       basePrintNoStr substitutedBy\n",
       "28922        A97-2011          None\n",
       "112545     A2550-2017          None\n",
       "71690      J2656-2013          None\n",
       "100389     A9341-2015          None\n",
       "4880       S3302-2009          None\n",
       "32513      A2041-2011          None\n",
       "93125      A6932-2015          None\n",
       "132797     K1294-2017          None\n",
       "117958     S4652-2017          None\n",
       "53136      J5226-2011          None"
      ]
     },
     "execution_count": 9,
     "metadata": {},
     "output_type": "execute_result"
    }
   ],
   "source": [
    "data_sub = data[['basePrintNoStr','substitutedBy']]\n",
    "data_sub.sample(10)"
   ]
  },
  {
   "cell_type": "code",
   "execution_count": 51,
   "metadata": {
    "scrolled": true
   },
   "outputs": [
    {
     "name": "stdout",
     "output_type": "stream",
     "text": [
      "rando: 91784\n",
      "None\n"
     ]
    },
    {
     "data": {
      "text/plain": [
       "{'basePrintNo': 'S6422', 'session': 2015, 'basePrintNoStr': 'S6422-2015'}"
      ]
     },
     "execution_count": 51,
     "metadata": {},
     "output_type": "execute_result"
    }
   ],
   "source": [
    "def get_rando():\n",
    "    rando = np.random.randint(90000,100000)\n",
    "    print(f\"rando: {rando}\")\n",
    "    pprint(data_sub.iloc[rando]['substitutedBy'])\n",
    "get_rando()\n",
    "\n",
    "data_sub.iloc[99940]['substitutedBy']"
   ]
  },
  {
   "cell_type": "code",
   "execution_count": 54,
   "metadata": {},
   "outputs": [
    {
     "name": "stdout",
     "output_type": "stream",
     "text": [
      "counter: 20000\n",
      "counter: 40000\n",
      "counter: 60000\n",
      "counter: 80000\n",
      "counter: 100000\n",
      "counter: 120000\n"
     ]
    },
    {
     "data": {
      "text/html": [
       "<div>\n",
       "<style scoped>\n",
       "    .dataframe tbody tr th:only-of-type {\n",
       "        vertical-align: middle;\n",
       "    }\n",
       "\n",
       "    .dataframe tbody tr th {\n",
       "        vertical-align: top;\n",
       "    }\n",
       "\n",
       "    .dataframe thead th {\n",
       "        text-align: right;\n",
       "    }\n",
       "</style>\n",
       "<table border=\"1\" class=\"dataframe\">\n",
       "  <thead>\n",
       "    <tr style=\"text-align: right;\">\n",
       "      <th></th>\n",
       "      <th>basePrintNoStr</th>\n",
       "      <th>replacedBy</th>\n",
       "    </tr>\n",
       "  </thead>\n",
       "  <tbody>\n",
       "    <tr>\n",
       "      <th>44652</th>\n",
       "      <td>A8019-2011</td>\n",
       "      <td>not_replaced</td>\n",
       "    </tr>\n",
       "    <tr>\n",
       "      <th>102047</th>\n",
       "      <td>S7159-2015</td>\n",
       "      <td>not_replaced</td>\n",
       "    </tr>\n",
       "    <tr>\n",
       "      <th>33210</th>\n",
       "      <td>S2209-2011</td>\n",
       "      <td>not_replaced</td>\n",
       "    </tr>\n",
       "    <tr>\n",
       "      <th>57694</th>\n",
       "      <td>A1578-2013</td>\n",
       "      <td>not_replaced</td>\n",
       "    </tr>\n",
       "    <tr>\n",
       "      <th>69304</th>\n",
       "      <td>S5348-2013</td>\n",
       "      <td>not_replaced</td>\n",
       "    </tr>\n",
       "    <tr>\n",
       "      <th>101126</th>\n",
       "      <td>A9521-2015</td>\n",
       "      <td>not_replaced</td>\n",
       "    </tr>\n",
       "    <tr>\n",
       "      <th>38981</th>\n",
       "      <td>S3738-2011</td>\n",
       "      <td>not_replaced</td>\n",
       "    </tr>\n",
       "    <tr>\n",
       "      <th>85909</th>\n",
       "      <td>A3409-2015</td>\n",
       "      <td>not_replaced</td>\n",
       "    </tr>\n",
       "    <tr>\n",
       "      <th>30490</th>\n",
       "      <td>A885-2011</td>\n",
       "      <td>not_replaced</td>\n",
       "    </tr>\n",
       "    <tr>\n",
       "      <th>107276</th>\n",
       "      <td>S647-2017</td>\n",
       "      <td>not_replaced</td>\n",
       "    </tr>\n",
       "  </tbody>\n",
       "</table>\n",
       "</div>"
      ],
      "text/plain": [
       "       basePrintNoStr    replacedBy\n",
       "44652      A8019-2011  not_replaced\n",
       "102047     S7159-2015  not_replaced\n",
       "33210      S2209-2011  not_replaced\n",
       "57694      A1578-2013  not_replaced\n",
       "69304      S5348-2013  not_replaced\n",
       "101126     A9521-2015  not_replaced\n",
       "38981      S3738-2011  not_replaced\n",
       "85909      A3409-2015  not_replaced\n",
       "30490       A885-2011  not_replaced\n",
       "107276      S647-2017  not_replaced"
      ]
     },
     "execution_count": 54,
     "metadata": {},
     "output_type": "execute_result"
    }
   ],
   "source": [
    "new_list = []\n",
    "counter = 0\n",
    "dit = {}\n",
    "\n",
    "for idx,row in data_sub.iterrows():\n",
    "    counter += 1\n",
    "    \n",
    "#     if counter > 150:\n",
    "#         break\n",
    "\n",
    "    if counter % 20000 == 0:\n",
    "        print(f\"counter: {counter}\")\n",
    "\n",
    "    subBy = row['substitutedBy']\n",
    "    \n",
    "    if subBy:\n",
    "        dit = {\"replacedBy\":subBy['basePrintNoStr']\n",
    "               ,\"basePrintNoStr\": row['basePrintNoStr']}\n",
    "    else:\n",
    "         dit = {\"replacedBy\":'not_replaced'\n",
    "            ,\"basePrintNoStr\": row['basePrintNoStr']}\n",
    "\n",
    "    \n",
    "\n",
    "    new_list.append(dit)\n",
    "\n",
    "data_text_info = pd.DataFrame(new_list)\n",
    "data_text_info.sample(10)"
   ]
  },
  {
   "cell_type": "code",
   "execution_count": 55,
   "metadata": {},
   "outputs": [
    {
     "data": {
      "text/plain": [
       "basePrintNoStr    A9249-2015\n",
       "replacedBy        S6422-2015\n",
       "Name: 99940, dtype: object"
      ]
     },
     "execution_count": 55,
     "metadata": {},
     "output_type": "execute_result"
    }
   ],
   "source": [
    "data_text_info.iloc[99940]"
   ]
  },
  {
   "cell_type": "code",
   "execution_count": 56,
   "metadata": {},
   "outputs": [],
   "source": [
    "pd.to_pickle(data_text_info,\"data_substitutedBy\")"
   ]
  },
  {
   "cell_type": "code",
   "execution_count": null,
   "metadata": {},
   "outputs": [],
   "source": []
  }
 ],
 "metadata": {
  "kernelspec": {
   "display_name": "Python 3",
   "language": "python",
   "name": "python3"
  },
  "language_info": {
   "codemirror_mode": {
    "name": "ipython",
    "version": 3
   },
   "file_extension": ".py",
   "mimetype": "text/x-python",
   "name": "python",
   "nbconvert_exporter": "python",
   "pygments_lexer": "ipython3",
   "version": "3.6.4"
  }
 },
 "nbformat": 4,
 "nbformat_minor": 2
}
