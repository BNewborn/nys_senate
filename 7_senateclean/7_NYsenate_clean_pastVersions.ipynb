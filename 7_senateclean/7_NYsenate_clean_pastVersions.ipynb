{
 "cells": [
  {
   "cell_type": "code",
   "execution_count": 61,
   "metadata": {},
   "outputs": [],
   "source": [
    "import pandas as pd\n",
    "from pprint import pprint\n",
    "import numpy as np"
   ]
  },
  {
   "cell_type": "code",
   "execution_count": 62,
   "metadata": {},
   "outputs": [],
   "source": [
    "pd.options.display.max_columns = 999"
   ]
  },
  {
   "cell_type": "code",
   "execution_count": 63,
   "metadata": {},
   "outputs": [],
   "source": [
    "data = pd.read_pickle(\"senate_raw\")"
   ]
  },
  {
   "cell_type": "code",
   "execution_count": 64,
   "metadata": {},
   "outputs": [
    {
     "data": {
      "text/plain": [
       "(133103, 31)"
      ]
     },
     "execution_count": 64,
     "metadata": {},
     "output_type": "execute_result"
    }
   ],
   "source": [
    "data.shape"
   ]
  },
  {
   "cell_type": "code",
   "execution_count": 65,
   "metadata": {},
   "outputs": [
    {
     "data": {
      "text/html": [
       "<div>\n",
       "<style scoped>\n",
       "    .dataframe tbody tr th:only-of-type {\n",
       "        vertical-align: middle;\n",
       "    }\n",
       "\n",
       "    .dataframe tbody tr th {\n",
       "        vertical-align: top;\n",
       "    }\n",
       "\n",
       "    .dataframe thead th {\n",
       "        text-align: right;\n",
       "    }\n",
       "</style>\n",
       "<table border=\"1\" class=\"dataframe\">\n",
       "  <thead>\n",
       "    <tr style=\"text-align: right;\">\n",
       "      <th></th>\n",
       "      <th>_id</th>\n",
       "      <th>actions</th>\n",
       "      <th>activeVersion</th>\n",
       "      <th>additionalSponsors</th>\n",
       "      <th>adopted</th>\n",
       "      <th>amendmentVersions</th>\n",
       "      <th>amendments</th>\n",
       "      <th>approvalMessage</th>\n",
       "      <th>basePrintNo</th>\n",
       "      <th>basePrintNoStr</th>\n",
       "      <th>billType</th>\n",
       "      <th>calendars</th>\n",
       "      <th>committeeAgendas</th>\n",
       "      <th>milestones</th>\n",
       "      <th>pastCommittees</th>\n",
       "      <th>previousVersions</th>\n",
       "      <th>printNo</th>\n",
       "      <th>programInfo</th>\n",
       "      <th>publishStatusMap</th>\n",
       "      <th>publishedDateTime</th>\n",
       "      <th>session</th>\n",
       "      <th>signed</th>\n",
       "      <th>sponsor</th>\n",
       "      <th>status</th>\n",
       "      <th>substitutedBy</th>\n",
       "      <th>summary</th>\n",
       "      <th>title</th>\n",
       "      <th>vetoMessages</th>\n",
       "      <th>vetoed</th>\n",
       "      <th>votes</th>\n",
       "      <th>year</th>\n",
       "    </tr>\n",
       "  </thead>\n",
       "  <tbody>\n",
       "    <tr>\n",
       "      <th>22071</th>\n",
       "      <td>5b1c134b5a67a40cd3482738</td>\n",
       "      <td>{'items': [{'billId': {'basePrintNo': 'J4091',...</td>\n",
       "      <td></td>\n",
       "      <td>{'items': [], 'size': 0}</td>\n",
       "      <td>True</td>\n",
       "      <td>{'items': [''], 'size': 1}</td>\n",
       "      <td>{'items': {'': {'basePrintNo': 'J4091', 'sessi...</td>\n",
       "      <td>None</td>\n",
       "      <td>J4091</td>\n",
       "      <td>J4091-2009</td>\n",
       "      <td>{'chamber': 'SENATE', 'desc': 'Regular and Joi...</td>\n",
       "      <td>{'items': [], 'size': 0}</td>\n",
       "      <td>{'items': [], 'size': 0}</td>\n",
       "      <td>{'items': [{'statusType': 'ADOPTED', 'statusDe...</td>\n",
       "      <td>{'items': [], 'size': 0}</td>\n",
       "      <td>{'items': [], 'size': 0}</td>\n",
       "      <td>J4091</td>\n",
       "      <td>None</td>\n",
       "      <td>{'items': {'': {'version': '', 'published': Tr...</td>\n",
       "      <td>2010-03-04T11:45:21</td>\n",
       "      <td>2009</td>\n",
       "      <td>False</td>\n",
       "      <td>{'member': {'memberId': 376, 'sessionMemberId'...</td>\n",
       "      <td>{'statusType': 'ADOPTED', 'statusDesc': 'Adopt...</td>\n",
       "      <td>None</td>\n",
       "      <td></td>\n",
       "      <td>Congratulating the Baldwinsville Football Team...</td>\n",
       "      <td>{'items': [], 'size': 0}</td>\n",
       "      <td>False</td>\n",
       "      <td>{'items': [], 'size': 0}</td>\n",
       "      <td>2010</td>\n",
       "    </tr>\n",
       "  </tbody>\n",
       "</table>\n",
       "</div>"
      ],
      "text/plain": [
       "                            _id  \\\n",
       "22071  5b1c134b5a67a40cd3482738   \n",
       "\n",
       "                                                 actions activeVersion  \\\n",
       "22071  {'items': [{'billId': {'basePrintNo': 'J4091',...                 \n",
       "\n",
       "             additionalSponsors  adopted           amendmentVersions  \\\n",
       "22071  {'items': [], 'size': 0}     True  {'items': [''], 'size': 1}   \n",
       "\n",
       "                                              amendments approvalMessage  \\\n",
       "22071  {'items': {'': {'basePrintNo': 'J4091', 'sessi...            None   \n",
       "\n",
       "      basePrintNo basePrintNoStr  \\\n",
       "22071       J4091     J4091-2009   \n",
       "\n",
       "                                                billType  \\\n",
       "22071  {'chamber': 'SENATE', 'desc': 'Regular and Joi...   \n",
       "\n",
       "                      calendars          committeeAgendas  \\\n",
       "22071  {'items': [], 'size': 0}  {'items': [], 'size': 0}   \n",
       "\n",
       "                                              milestones  \\\n",
       "22071  {'items': [{'statusType': 'ADOPTED', 'statusDe...   \n",
       "\n",
       "                 pastCommittees          previousVersions printNo programInfo  \\\n",
       "22071  {'items': [], 'size': 0}  {'items': [], 'size': 0}   J4091        None   \n",
       "\n",
       "                                        publishStatusMap    publishedDateTime  \\\n",
       "22071  {'items': {'': {'version': '', 'published': Tr...  2010-03-04T11:45:21   \n",
       "\n",
       "       session  signed                                            sponsor  \\\n",
       "22071     2009   False  {'member': {'memberId': 376, 'sessionMemberId'...   \n",
       "\n",
       "                                                  status substitutedBy  \\\n",
       "22071  {'statusType': 'ADOPTED', 'statusDesc': 'Adopt...          None   \n",
       "\n",
       "      summary                                              title  \\\n",
       "22071          Congratulating the Baldwinsville Football Team...   \n",
       "\n",
       "                   vetoMessages  vetoed                     votes  year  \n",
       "22071  {'items': [], 'size': 0}   False  {'items': [], 'size': 0}  2010  "
      ]
     },
     "execution_count": 65,
     "metadata": {},
     "output_type": "execute_result"
    }
   ],
   "source": [
    "data.sample()"
   ]
  },
  {
   "cell_type": "code",
   "execution_count": null,
   "metadata": {},
   "outputs": [],
   "source": []
  },
  {
   "cell_type": "code",
   "execution_count": 66,
   "metadata": {},
   "outputs": [
    {
     "data": {
      "text/html": [
       "<div>\n",
       "<style scoped>\n",
       "    .dataframe tbody tr th:only-of-type {\n",
       "        vertical-align: middle;\n",
       "    }\n",
       "\n",
       "    .dataframe tbody tr th {\n",
       "        vertical-align: top;\n",
       "    }\n",
       "\n",
       "    .dataframe thead th {\n",
       "        text-align: right;\n",
       "    }\n",
       "</style>\n",
       "<table border=\"1\" class=\"dataframe\">\n",
       "  <thead>\n",
       "    <tr style=\"text-align: right;\">\n",
       "      <th></th>\n",
       "      <th>_id</th>\n",
       "      <th>previousVersions</th>\n",
       "    </tr>\n",
       "  </thead>\n",
       "  <tbody>\n",
       "    <tr>\n",
       "      <th>6675</th>\n",
       "      <td>5b1c125a5a67a40cd347eb14</td>\n",
       "      <td>{'items': [{'basePrintNo': 'A4137', 'session':...</td>\n",
       "    </tr>\n",
       "    <tr>\n",
       "      <th>1245</th>\n",
       "      <td>5b1c11ed5a67a40cd347d5de</td>\n",
       "      <td>{'items': [], 'size': 0}</td>\n",
       "    </tr>\n",
       "    <tr>\n",
       "      <th>65508</th>\n",
       "      <td>5b1c169e5a67a40cd348d0e5</td>\n",
       "      <td>{'items': [], 'size': 0}</td>\n",
       "    </tr>\n",
       "    <tr>\n",
       "      <th>125272</th>\n",
       "      <td>5b1c1aaf5a67a40cd349ba59</td>\n",
       "      <td>{'items': [], 'size': 0}</td>\n",
       "    </tr>\n",
       "    <tr>\n",
       "      <th>85350</th>\n",
       "      <td>5b1c180c5a67a40cd3491e67</td>\n",
       "      <td>{'items': [], 'size': 0}</td>\n",
       "    </tr>\n",
       "    <tr>\n",
       "      <th>82150</th>\n",
       "      <td>5b1c17c95a67a40cd34911e7</td>\n",
       "      <td>{'items': [{'basePrintNo': 'A1926', 'session':...</td>\n",
       "    </tr>\n",
       "    <tr>\n",
       "      <th>26608</th>\n",
       "      <td>5b1c13835a67a40cd34838f1</td>\n",
       "      <td>{'items': [], 'size': 0}</td>\n",
       "    </tr>\n",
       "    <tr>\n",
       "      <th>68103</th>\n",
       "      <td>5b1c16bd5a67a40cd348db08</td>\n",
       "      <td>{'items': [], 'size': 0}</td>\n",
       "    </tr>\n",
       "    <tr>\n",
       "      <th>67862</th>\n",
       "      <td>5b1c16bd5a67a40cd348da17</td>\n",
       "      <td>{'items': [], 'size': 0}</td>\n",
       "    </tr>\n",
       "    <tr>\n",
       "      <th>83396</th>\n",
       "      <td>5b1c17e15a67a40cd34916c5</td>\n",
       "      <td>{'items': [{'basePrintNo': 'A1194', 'session':...</td>\n",
       "    </tr>\n",
       "  </tbody>\n",
       "</table>\n",
       "</div>"
      ],
      "text/plain": [
       "                             _id  \\\n",
       "6675    5b1c125a5a67a40cd347eb14   \n",
       "1245    5b1c11ed5a67a40cd347d5de   \n",
       "65508   5b1c169e5a67a40cd348d0e5   \n",
       "125272  5b1c1aaf5a67a40cd349ba59   \n",
       "85350   5b1c180c5a67a40cd3491e67   \n",
       "82150   5b1c17c95a67a40cd34911e7   \n",
       "26608   5b1c13835a67a40cd34838f1   \n",
       "68103   5b1c16bd5a67a40cd348db08   \n",
       "67862   5b1c16bd5a67a40cd348da17   \n",
       "83396   5b1c17e15a67a40cd34916c5   \n",
       "\n",
       "                                         previousVersions  \n",
       "6675    {'items': [{'basePrintNo': 'A4137', 'session':...  \n",
       "1245                             {'items': [], 'size': 0}  \n",
       "65508                            {'items': [], 'size': 0}  \n",
       "125272                           {'items': [], 'size': 0}  \n",
       "85350                            {'items': [], 'size': 0}  \n",
       "82150   {'items': [{'basePrintNo': 'A1926', 'session':...  \n",
       "26608                            {'items': [], 'size': 0}  \n",
       "68103                            {'items': [], 'size': 0}  \n",
       "67862                            {'items': [], 'size': 0}  \n",
       "83396   {'items': [{'basePrintNo': 'A1194', 'session':...  "
      ]
     },
     "execution_count": 66,
     "metadata": {},
     "output_type": "execute_result"
    }
   ],
   "source": [
    "data_previousVersions = data[['_id','previousVersions']]\n",
    "data_previousVersions.sample(10)"
   ]
  },
  {
   "cell_type": "code",
   "execution_count": 67,
   "metadata": {
    "scrolled": true
   },
   "outputs": [
    {
     "name": "stdout",
     "output_type": "stream",
     "text": [
      "rando: 21024\n",
      "{'items': [], 'size': 0}\n"
     ]
    }
   ],
   "source": [
    "def get_rando():\n",
    "    rando = np.random.randint(50000)\n",
    "    print(f\"rando: {rando}\")\n",
    "    pprint(data_previousVersions.iloc[rando]['previousVersions'])\n",
    "get_rando()"
   ]
  },
  {
   "cell_type": "code",
   "execution_count": 68,
   "metadata": {},
   "outputs": [
    {
     "data": {
      "text/plain": [
       "{'items': [{'basePrintNo': 'S2086',\n",
       "   'session': 2009,\n",
       "   'basePrintNoStr': 'S2086-2009',\n",
       "   'printNo': 'S2086',\n",
       "   'version': ''},\n",
       "  {'basePrintNo': 'S2652',\n",
       "   'session': 2007,\n",
       "   'basePrintNoStr': 'S2652-2007',\n",
       "   'printNo': 'S2652',\n",
       "   'version': ''}],\n",
       " 'size': 2}"
      ]
     },
     "execution_count": 68,
     "metadata": {},
     "output_type": "execute_result"
    }
   ],
   "source": [
    "data_previousVersions.iloc[30367]['previousVersions']"
   ]
  },
  {
   "cell_type": "code",
   "execution_count": 69,
   "metadata": {},
   "outputs": [],
   "source": [
    "max_size = 0\n",
    "for idx,row in data_previousVersions.iterrows():\n",
    "    if row['previousVersions']['size'] > max_size:\n",
    "        max_size = row['previousVersions']['size']\n",
    "        "
   ]
  },
  {
   "cell_type": "code",
   "execution_count": 70,
   "metadata": {},
   "outputs": [
    {
     "name": "stdout",
     "output_type": "stream",
     "text": [
      "Max Size: 7\n"
     ]
    }
   ],
   "source": [
    "print(f\"Max Size: {max_size}\")"
   ]
  },
  {
   "cell_type": "code",
   "execution_count": 71,
   "metadata": {},
   "outputs": [
    {
     "data": {
      "text/html": [
       "<div>\n",
       "<style scoped>\n",
       "    .dataframe tbody tr th:only-of-type {\n",
       "        vertical-align: middle;\n",
       "    }\n",
       "\n",
       "    .dataframe tbody tr th {\n",
       "        vertical-align: top;\n",
       "    }\n",
       "\n",
       "    .dataframe thead th {\n",
       "        text-align: right;\n",
       "    }\n",
       "</style>\n",
       "<table border=\"1\" class=\"dataframe\">\n",
       "  <thead>\n",
       "    <tr style=\"text-align: right;\">\n",
       "      <th></th>\n",
       "      <th>_id</th>\n",
       "      <th>previousVersions</th>\n",
       "    </tr>\n",
       "  </thead>\n",
       "  <tbody>\n",
       "    <tr>\n",
       "      <th>69945</th>\n",
       "      <td>5b1c16dc5a67a40cd348e23a</td>\n",
       "      <td>{'items': [], 'size': 0}</td>\n",
       "    </tr>\n",
       "  </tbody>\n",
       "</table>\n",
       "</div>"
      ],
      "text/plain": [
       "                            _id          previousVersions\n",
       "69945  5b1c16dc5a67a40cd348e23a  {'items': [], 'size': 0}"
      ]
     },
     "execution_count": 71,
     "metadata": {},
     "output_type": "execute_result"
    }
   ],
   "source": [
    "data_previousVersions.sample()"
   ]
  },
  {
   "cell_type": "code",
   "execution_count": 72,
   "metadata": {},
   "outputs": [
    {
     "data": {
      "text/plain": [
       "\"\\n\\n{'items': [{'basePrintNo': 'S2086',\\n   'session': 2009,\\n   'basePrintNoStr': 'S2086-2009',\\n   'printNo': 'S2086',\\n   'version': ''},\\n  {'basePrintNo': 'S2652',\\n   'session': 2007,\\n   'basePrintNoStr': 'S2652-2007',\\n   'printNo': 'S2652',\\n   'version': ''}],\\n 'size': 2}\\n \\n \""
      ]
     },
     "execution_count": 72,
     "metadata": {},
     "output_type": "execute_result"
    }
   ],
   "source": [
    "'''\n",
    "\n",
    "{'items': [{'basePrintNo': 'S2086',\n",
    "   'session': 2009,\n",
    "   'basePrintNoStr': 'S2086-2009',\n",
    "   'printNo': 'S2086',\n",
    "   'version': ''},\n",
    "  {'basePrintNo': 'S2652',\n",
    "   'session': 2007,\n",
    "   'basePrintNoStr': 'S2652-2007',\n",
    "   'printNo': 'S2652',\n",
    "   'version': ''}],\n",
    " 'size': 2}\n",
    " \n",
    " '''"
   ]
  },
  {
   "cell_type": "code",
   "execution_count": 73,
   "metadata": {},
   "outputs": [
    {
     "name": "stdout",
     "output_type": "stream",
     "text": [
      "counter: 10000\n",
      "counter: 20000\n",
      "counter: 30000\n",
      "counter: 40000\n",
      "counter: 50000\n",
      "counter: 60000\n",
      "counter: 70000\n",
      "counter: 80000\n",
      "counter: 90000\n",
      "counter: 100000\n",
      "counter: 110000\n",
      "counter: 120000\n",
      "counter: 130000\n"
     ]
    },
    {
     "data": {
      "text/html": [
       "<div>\n",
       "<style scoped>\n",
       "    .dataframe tbody tr th:only-of-type {\n",
       "        vertical-align: middle;\n",
       "    }\n",
       "\n",
       "    .dataframe tbody tr th {\n",
       "        vertical-align: top;\n",
       "    }\n",
       "\n",
       "    .dataframe thead th {\n",
       "        text-align: right;\n",
       "    }\n",
       "</style>\n",
       "<table border=\"1\" class=\"dataframe\">\n",
       "  <thead>\n",
       "    <tr style=\"text-align: right;\">\n",
       "      <th></th>\n",
       "      <th>_id</th>\n",
       "      <th>previousVersion</th>\n",
       "    </tr>\n",
       "  </thead>\n",
       "  <tbody>\n",
       "    <tr>\n",
       "      <th>3918</th>\n",
       "      <td>5b1c121b5a67a40cd347e04f</td>\n",
       "      <td>S7882-2007</td>\n",
       "    </tr>\n",
       "    <tr>\n",
       "      <th>128044</th>\n",
       "      <td>5b1c1ae55a67a40cd349c52d</td>\n",
       "      <td>no_previousVersion</td>\n",
       "    </tr>\n",
       "    <tr>\n",
       "      <th>111988</th>\n",
       "      <td>5b1c19e35a67a40cd3498675</td>\n",
       "      <td>S92-2015</td>\n",
       "    </tr>\n",
       "    <tr>\n",
       "      <th>90366</th>\n",
       "      <td>5b1c186e5a67a40cd34931ff</td>\n",
       "      <td>no_previousVersion</td>\n",
       "    </tr>\n",
       "    <tr>\n",
       "      <th>98552</th>\n",
       "      <td>5b1c18fc5a67a40cd34951f9</td>\n",
       "      <td>no_previousVersion</td>\n",
       "    </tr>\n",
       "    <tr>\n",
       "      <th>95001</th>\n",
       "      <td>5b1c18cb5a67a40cd349441a</td>\n",
       "      <td>no_previousVersion</td>\n",
       "    </tr>\n",
       "    <tr>\n",
       "      <th>68282</th>\n",
       "      <td>5b1c16cc5a67a40cd348dbbb</td>\n",
       "      <td>S7228-2011</td>\n",
       "    </tr>\n",
       "    <tr>\n",
       "      <th>23741</th>\n",
       "      <td>5b1c135b5a67a40cd3482dbe</td>\n",
       "      <td>no_previousVersion</td>\n",
       "    </tr>\n",
       "    <tr>\n",
       "      <th>73542</th>\n",
       "      <td>5b1c17265a67a40cd348f047</td>\n",
       "      <td>no_previousVersion</td>\n",
       "    </tr>\n",
       "    <tr>\n",
       "      <th>54696</th>\n",
       "      <td>5b1c15ba5a67a40cd348a6a9</td>\n",
       "      <td>S59-2011</td>\n",
       "    </tr>\n",
       "  </tbody>\n",
       "</table>\n",
       "</div>"
      ],
      "text/plain": [
       "                             _id     previousVersion\n",
       "3918    5b1c121b5a67a40cd347e04f          S7882-2007\n",
       "128044  5b1c1ae55a67a40cd349c52d  no_previousVersion\n",
       "111988  5b1c19e35a67a40cd3498675            S92-2015\n",
       "90366   5b1c186e5a67a40cd34931ff  no_previousVersion\n",
       "98552   5b1c18fc5a67a40cd34951f9  no_previousVersion\n",
       "95001   5b1c18cb5a67a40cd349441a  no_previousVersion\n",
       "68282   5b1c16cc5a67a40cd348dbbb          S7228-2011\n",
       "23741   5b1c135b5a67a40cd3482dbe  no_previousVersion\n",
       "73542   5b1c17265a67a40cd348f047  no_previousVersion\n",
       "54696   5b1c15ba5a67a40cd348a6a9            S59-2011"
      ]
     },
     "execution_count": 73,
     "metadata": {},
     "output_type": "execute_result"
    }
   ],
   "source": [
    "new_list = []\n",
    "counter = 0\n",
    "dt = {}\n",
    "\n",
    "\n",
    "for idx,row in data_previousVersions.iterrows():\n",
    "    counter += 1\n",
    "#     if counter > 15:\n",
    "#         break\n",
    "    \n",
    "    if counter % 10000 ==0:\n",
    "        print(f\"counter: {counter}\")\n",
    "#     pprint(row)\n",
    "    pv = row['previousVersions']\n",
    "    \n",
    "    if pv['size'] > 0:\n",
    "\n",
    "        dt = {\n",
    "        '_id':row['_id']\n",
    "        ,'previousVersion':pv['items'][0]['basePrintNoStr']\n",
    "        }\n",
    "    else:\n",
    "        dt = { \n",
    "            '_id':row['_id']\n",
    "            ,'previousVersion': 'no_previousVersion'\n",
    "             }\n",
    "\n",
    "    \n",
    "    new_list.append(dt)\n",
    "    \n",
    "    \n",
    "data_previousVersions_new = pd.DataFrame(new_list)\n",
    "data_previousVersions_new.sample(10)"
   ]
  },
  {
   "cell_type": "code",
   "execution_count": 74,
   "metadata": {},
   "outputs": [],
   "source": [
    "pd.to_pickle(data_previousVersions_new,\"data_previousVersions\")"
   ]
  },
  {
   "cell_type": "code",
   "execution_count": 75,
   "metadata": {},
   "outputs": [
    {
     "data": {
      "text/plain": [
       "(133103, 2)"
      ]
     },
     "execution_count": 75,
     "metadata": {},
     "output_type": "execute_result"
    }
   ],
   "source": [
    "data_previousVersions_new.shape"
   ]
  }
 ],
 "metadata": {
  "kernelspec": {
   "display_name": "Python 3",
   "language": "python",
   "name": "python3"
  },
  "language_info": {
   "codemirror_mode": {
    "name": "ipython",
    "version": 3
   },
   "file_extension": ".py",
   "mimetype": "text/x-python",
   "name": "python",
   "nbconvert_exporter": "python",
   "pygments_lexer": "ipython3",
   "version": "3.6.4"
  }
 },
 "nbformat": 4,
 "nbformat_minor": 2
}
