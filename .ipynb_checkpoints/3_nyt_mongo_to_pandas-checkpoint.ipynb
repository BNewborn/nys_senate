{
 "cells": [
  {
   "cell_type": "code",
   "execution_count": 34,
   "metadata": {},
   "outputs": [],
   "source": [
    "import requests\n",
    "from pprint import pprint\n",
    "import numpy as np\n",
    "import pandas as pd\n",
    "import json\n",
    "import time\n",
    "from datetime import datetime\n",
    "from dateutil.parser import parse\n",
    "from newspaper import Article"
   ]
  },
  {
   "cell_type": "code",
   "execution_count": 35,
   "metadata": {},
   "outputs": [],
   "source": [
    "#Set Up PyMongo\n",
    "# db.times_articles.drop()\n",
    "from pymongo import MongoClient\n",
    "\n",
    "client = MongoClient()\n",
    "db = client.ny_times\n",
    "col = db.times_articles"
   ]
  },
  {
   "cell_type": "code",
   "execution_count": 36,
   "metadata": {},
   "outputs": [],
   "source": [
    "def date_clean(row):\n",
    "    row['clean_pubdate'] = datetime.isoformat(parse(row['pub_date']))\n",
    "    return row"
   ]
  },
  {
   "cell_type": "code",
   "execution_count": 37,
   "metadata": {},
   "outputs": [],
   "source": [
    "data = pd.DataFrame(list(col.find()))"
   ]
  },
  {
   "cell_type": "code",
   "execution_count": 38,
   "metadata": {},
   "outputs": [],
   "source": [
    "data = data.apply(date_clean,axis=1)"
   ]
  },
  {
   "cell_type": "code",
   "execution_count": 39,
   "metadata": {},
   "outputs": [],
   "source": [
    "data['year'] = pd.DatetimeIndex(data['clean_pubdate']).year\n",
    "data['month'] = pd.DatetimeIndex(data['clean_pubdate']).month"
   ]
  },
  {
   "cell_type": "markdown",
   "metadata": {},
   "source": [
    "I needed to use these masks as the NYTimes API search isn't as exclusive as we'd have liked. I figured it was better to grab more articles than was needed and then clean up rather than risk being too narrow on first pass and having to return."
   ]
  },
  {
   "cell_type": "code",
   "execution_count": 40,
   "metadata": {},
   "outputs": [],
   "source": [
    "data_1 = data[data.snippet.str.contains('New York State Senate',case=False)]\n",
    "data_2 = data[(data.snippet.str.contains('Albany'))&(data.new_desk !='Sports')]\n",
    "data_3 = data[(data.snippet.str.contains(\"lawmakers\",case=False))\\\n",
    "          &~(data.snippet.str.contains(\"New York Times\"))&(data.snippet.str.contains(\"New York\"))]\n",
    "data_4 = data[(data.snippet.str.contains(\"senators\",case=False))\\\n",
    "          &~(data.snippet.str.contains(\"New York Times\"))&(data.snippet.str.contains(\"New York\"))]\n",
    "\n",
    "data_5 = data[(data.snippet.str.contains(\"senate\",case=False))\\\n",
    "          &~(data.snippet.str.contains(\"New York Times\"))&(data.snippet.str.contains(\"New York\"))]\n",
    "\n",
    "data_6 = data[(data.snippet.str.contains(\"legislature\",case=False))\\\n",
    "          &~(data.snippet.str.contains(\"New York Times\"))&(data.snippet.str.contains(\"New York\"))]\n",
    "data_7 = data[(data.snippet.str.contains('New York'))&(data.snippet.str.contains('Senate',case=False))]"
   ]
  },
  {
   "cell_type": "code",
   "execution_count": 41,
   "metadata": {},
   "outputs": [],
   "source": [
    "data_full = pd.concat([data_1,data_2,data_3,data_4,data_5,data_6,data_7])"
   ]
  },
  {
   "cell_type": "markdown",
   "metadata": {},
   "source": [
    "I then used the newspaper library to get summaries and full text via the URL given from NYT (The NYT API doesnt give full article text, just a snippet and the URL)"
   ]
  },
  {
   "cell_type": "code",
   "execution_count": 42,
   "metadata": {},
   "outputs": [],
   "source": [
    "def get_article_details(row):\n",
    "    url = row['web_url']\n",
    "#     print(url)\n",
    "#     print(f\"Type: {type(url)}\")\n",
    "    try:\n",
    "        article = Article(url)\n",
    "        article.download()\n",
    "        article.parse()\n",
    "    except:\n",
    "        print(f\"Parse Broken\")\n",
    "    \n",
    "    try:\n",
    "        article.nlp()\n",
    "    except:\n",
    "        print(\"NLP Broken\")\n",
    "        \n",
    "    try:\n",
    "        row['full_text']=article.text\n",
    "    except:\n",
    "        row['full_text']=\"no_text_available\"\n",
    "\n",
    "    try:\n",
    "        row['summary'] = article.summary\n",
    "    except:\n",
    "        row['summary'] = \"no_summary_available\"\n",
    "\n",
    "    try:\n",
    "        row['keywords'] = article.keywords\n",
    "    except:\n",
    "        row['keywords'] = \"no_keywords_available\"\n",
    "\n",
    "    return row"
   ]
  },
  {
   "cell_type": "code",
   "execution_count": 43,
   "metadata": {
    "scrolled": true
   },
   "outputs": [
    {
     "name": "stdout",
     "output_type": "stream",
     "text": [
      "Article `download()` failed with 410 Client Error: Gone for url: https://www.nytimes.com/aponline/2018/06/06/us/ap-us-verrazano-bridge-spelling-.html on URL https://www.nytimes.com/aponline/2018/06/06/us/ap-us-verrazano-bridge-spelling-.html\n",
      "Parse Broken\n",
      "Article `download()` failed with 410 Client Error: Gone for url: https://www.nytimes.com/aponline/2018/06/06/us/ap-us-verrazano-bridge-spelling-.html on URL https://www.nytimes.com/aponline/2018/06/06/us/ap-us-verrazano-bridge-spelling-.html\n",
      "NLP Broken\n",
      "Article `download()` failed with 410 Client Error: Gone for url: https://www.nytimes.com/aponline/2018/06/04/us/ap-us-sports-betting-ny.html on URL https://www.nytimes.com/aponline/2018/06/04/us/ap-us-sports-betting-ny.html\n",
      "Parse Broken\n",
      "Article `download()` failed with 410 Client Error: Gone for url: https://www.nytimes.com/aponline/2018/06/04/us/ap-us-sports-betting-ny.html on URL https://www.nytimes.com/aponline/2018/06/04/us/ap-us-sports-betting-ny.html\n",
      "NLP Broken\n",
      "Article `download()` failed with 404 Client Error: Not Found for url: https://cityroom.blogs.nytimes.com/2009/12/02/blogs/02cityroom-live-blo108853.html on URL https://cityroom.blogs.nytimes.com/2009/12/02/blogs/02cityroom-live-blo108853.html\n",
      "Parse Broken\n",
      "Article `download()` failed with 404 Client Error: Not Found for url: https://cityroom.blogs.nytimes.com/2009/12/02/blogs/02cityroom-live-blo108853.html on URL https://cityroom.blogs.nytimes.com/2009/12/02/blogs/02cityroom-live-blo108853.html\n",
      "NLP Broken\n",
      "Article `download()` failed with 404 Client Error: Not Found for url: https://www.nytimes.com/aponline/2016/09/15/us/ap-us-pilgrim-pipeline.html on URL https://www.nytimes.com/aponline/2016/09/15/us/ap-us-pilgrim-pipeline.html\n",
      "Parse Broken\n",
      "Article `download()` failed with 404 Client Error: Not Found for url: https://www.nytimes.com/aponline/2016/09/15/us/ap-us-pilgrim-pipeline.html on URL https://www.nytimes.com/aponline/2016/09/15/us/ap-us-pilgrim-pipeline.html\n",
      "NLP Broken\n",
      "Article `download()` failed with 404 Client Error: Not Found for url: https://www.nytimes.com/aponline/2016/08/10/us/ap-us-plane-smoke-in-cabin.html on URL https://www.nytimes.com/aponline/2016/08/10/us/ap-us-plane-smoke-in-cabin.html\n",
      "Parse Broken\n",
      "Article `download()` failed with 404 Client Error: Not Found for url: https://www.nytimes.com/aponline/2016/08/10/us/ap-us-plane-smoke-in-cabin.html on URL https://www.nytimes.com/aponline/2016/08/10/us/ap-us-plane-smoke-in-cabin.html\n",
      "NLP Broken\n",
      "Article `download()` failed with 404 Client Error: Not Found for url: https://www.nytimes.com/aponline/2016/08/05/us/ap-us-erie-canal-1825-drawings.html on URL https://www.nytimes.com/aponline/2016/08/05/us/ap-us-erie-canal-1825-drawings.html\n",
      "Parse Broken\n",
      "Article `download()` failed with 404 Client Error: Not Found for url: https://www.nytimes.com/aponline/2016/08/05/us/ap-us-erie-canal-1825-drawings.html on URL https://www.nytimes.com/aponline/2016/08/05/us/ap-us-erie-canal-1825-drawings.html\n",
      "NLP Broken\n",
      "Article `download()` failed with 404 Client Error: Not Found for url: https://thecaucus.blogs.nytimes.com/2011/05/05/bill-clinton-pushes-for-same-sex-marriage/ on URL https://query.nytimes.com/gst/fullpage.html?res=9C07E4DC1039F935A35756C0A9679D8B63\n",
      "Parse Broken\n",
      "Article `download()` failed with 404 Client Error: Not Found for url: https://thecaucus.blogs.nytimes.com/2011/05/05/bill-clinton-pushes-for-same-sex-marriage/ on URL https://query.nytimes.com/gst/fullpage.html?res=9C07E4DC1039F935A35756C0A9679D8B63\n",
      "NLP Broken\n",
      "Article `download()` failed with 404 Client Error: Not Found for url: https://www.nytimes.com/aponline/2016/10/14/us/ap-us-train-hits-station.html on URL https://www.nytimes.com/aponline/2016/10/14/us/ap-us-train-hits-station.html\n",
      "Parse Broken\n",
      "Article `download()` failed with 404 Client Error: Not Found for url: https://www.nytimes.com/aponline/2016/10/14/us/ap-us-train-hits-station.html on URL https://www.nytimes.com/aponline/2016/10/14/us/ap-us-train-hits-station.html\n",
      "NLP Broken\n",
      "Article `download()` failed with 404 Client Error: Not Found for url: https://www.nytimes.com/aponline/2016/10/16/us/ap-us-fixing-911.html on URL https://www.nytimes.com/aponline/2016/10/16/us/ap-us-fixing-911.html\n",
      "Parse Broken\n",
      "Article `download()` failed with 404 Client Error: Not Found for url: https://www.nytimes.com/aponline/2016/10/16/us/ap-us-fixing-911.html on URL https://www.nytimes.com/aponline/2016/10/16/us/ap-us-fixing-911.html\n",
      "NLP Broken\n",
      "Article `download()` failed with 410 Client Error: Gone for url: https://www.nytimes.com/reuters/2018/05/30/technology/30reuters-usa-cyber-new-york.html on URL https://www.nytimes.com/reuters/2018/05/30/technology/30reuters-usa-cyber-new-york.html\n",
      "Parse Broken\n",
      "Article `download()` failed with 410 Client Error: Gone for url: https://www.nytimes.com/reuters/2018/05/30/technology/30reuters-usa-cyber-new-york.html on URL https://www.nytimes.com/reuters/2018/05/30/technology/30reuters-usa-cyber-new-york.html\n",
      "NLP Broken\n",
      "Article `download()` failed with 410 Client Error: Gone for url: https://www.nytimes.com/aponline/2018/06/06/us/ap-us-verrazano-bridge-spelling-.html on URL https://www.nytimes.com/aponline/2018/06/06/us/ap-us-verrazano-bridge-spelling-.html\n",
      "Parse Broken\n",
      "Article `download()` failed with 410 Client Error: Gone for url: https://www.nytimes.com/aponline/2018/06/06/us/ap-us-verrazano-bridge-spelling-.html on URL https://www.nytimes.com/aponline/2018/06/06/us/ap-us-verrazano-bridge-spelling-.html\n",
      "NLP Broken\n",
      "Article `download()` failed with 404 Client Error: Not Found for url: https://www.nytimes.com/reuters/2016/08/04/us/04reuters-new-york-corruption-skelos.html on URL https://www.nytimes.com/reuters/2016/08/04/us/04reuters-new-york-corruption-skelos.html\n",
      "Parse Broken\n",
      "Article `download()` failed with 404 Client Error: Not Found for url: https://www.nytimes.com/reuters/2016/08/04/us/04reuters-new-york-corruption-skelos.html on URL https://www.nytimes.com/reuters/2016/08/04/us/04reuters-new-york-corruption-skelos.html\n",
      "NLP Broken\n",
      "Article `download()` failed with 404 Client Error: Not Found for url: https://www.nytimes.com/aponline/2016/08/04/us/ap-us-senate-leader-trial.html on URL https://www.nytimes.com/aponline/2016/08/04/us/ap-us-senate-leader-trial.html\n",
      "Parse Broken\n",
      "Article `download()` failed with 404 Client Error: Not Found for url: https://www.nytimes.com/aponline/2016/08/04/us/ap-us-senate-leader-trial.html on URL https://www.nytimes.com/aponline/2016/08/04/us/ap-us-senate-leader-trial.html\n",
      "NLP Broken\n",
      "Article `download()` failed with 404 Client Error: Not Found for url: https://www.nytimes.com/reuters/2016/08/04/us/04reuters-new-york-corruption-skelos.html on URL https://www.nytimes.com/reuters/2016/08/04/us/04reuters-new-york-corruption-skelos.html\n",
      "Parse Broken\n",
      "Article `download()` failed with 404 Client Error: Not Found for url: https://www.nytimes.com/reuters/2016/08/04/us/04reuters-new-york-corruption-skelos.html on URL https://www.nytimes.com/reuters/2016/08/04/us/04reuters-new-york-corruption-skelos.html\n",
      "NLP Broken\n",
      "Article `download()` failed with 404 Client Error: Not Found for url: https://www.nytimes.com/aponline/2016/09/07/us/politics/ap-us-campaign-2016-clinton-and-schumer.html on URL https://www.nytimes.com/aponline/2016/09/07/us/politics/ap-us-campaign-2016-clinton-and-schumer.html\n",
      "Parse Broken\n",
      "Article `download()` failed with 404 Client Error: Not Found for url: https://www.nytimes.com/aponline/2016/09/07/us/politics/ap-us-campaign-2016-clinton-and-schumer.html on URL https://www.nytimes.com/aponline/2016/09/07/us/politics/ap-us-campaign-2016-clinton-and-schumer.html\n",
      "NLP Broken\n",
      "Article `download()` failed with 404 Client Error: Not Found for url: https://www.nytimes.com/aponline/2016/09/08/us/politics/ap-us-campaign-2016-clinton-and-schumer.html on URL https://www.nytimes.com/aponline/2016/09/08/us/politics/ap-us-campaign-2016-clinton-and-schumer.html\n",
      "Parse Broken\n",
      "Article `download()` failed with 404 Client Error: Not Found for url: https://www.nytimes.com/aponline/2016/09/08/us/politics/ap-us-campaign-2016-clinton-and-schumer.html on URL https://www.nytimes.com/aponline/2016/09/08/us/politics/ap-us-campaign-2016-clinton-and-schumer.html\n",
      "NLP Broken\n",
      "Article `download()` failed with 410 Client Error: Gone for url: https://www.nytimes.com/reuters/2018/05/30/technology/30reuters-usa-cyber-new-york.html on URL https://www.nytimes.com/reuters/2018/05/30/technology/30reuters-usa-cyber-new-york.html\n",
      "Parse Broken\n",
      "Article `download()` failed with 410 Client Error: Gone for url: https://www.nytimes.com/reuters/2018/05/30/technology/30reuters-usa-cyber-new-york.html on URL https://www.nytimes.com/reuters/2018/05/30/technology/30reuters-usa-cyber-new-york.html\n",
      "NLP Broken\n",
      "Article `download()` failed with 410 Client Error: Gone for url: https://www.nytimes.com/aponline/2018/06/06/us/ap-us-verrazano-bridge-spelling-.html on URL https://www.nytimes.com/aponline/2018/06/06/us/ap-us-verrazano-bridge-spelling-.html\n",
      "Parse Broken\n",
      "Article `download()` failed with 410 Client Error: Gone for url: https://www.nytimes.com/aponline/2018/06/06/us/ap-us-verrazano-bridge-spelling-.html on URL https://www.nytimes.com/aponline/2018/06/06/us/ap-us-verrazano-bridge-spelling-.html\n",
      "NLP Broken\n"
     ]
    },
    {
     "name": "stdout",
     "output_type": "stream",
     "text": [
      "Article `download()` failed with 410 Client Error: Gone for url: https://www.nytimes.com/reuters/2018/06/04/technology/04reuters-facebook-privacy.html on URL https://www.nytimes.com/reuters/2018/06/04/technology/04reuters-facebook-privacy.html\n",
      "Parse Broken\n",
      "Article `download()` failed with 410 Client Error: Gone for url: https://www.nytimes.com/reuters/2018/06/04/technology/04reuters-facebook-privacy.html on URL https://www.nytimes.com/reuters/2018/06/04/technology/04reuters-facebook-privacy.html\n",
      "NLP Broken\n",
      "Article `download()` failed with 404 Client Error: Not Found for url: https://www.nytimes.com/reuters/2016/08/04/us/04reuters-new-york-corruption-skelos.html on URL https://www.nytimes.com/reuters/2016/08/04/us/04reuters-new-york-corruption-skelos.html\n",
      "Parse Broken\n",
      "Article `download()` failed with 404 Client Error: Not Found for url: https://www.nytimes.com/reuters/2016/08/04/us/04reuters-new-york-corruption-skelos.html on URL https://www.nytimes.com/reuters/2016/08/04/us/04reuters-new-york-corruption-skelos.html\n",
      "NLP Broken\n",
      "Article `download()` failed with 404 Client Error: Not Found for url: https://www.nytimes.com/aponline/2016/08/04/us/ap-us-senate-leader-trial.html on URL https://www.nytimes.com/aponline/2016/08/04/us/ap-us-senate-leader-trial.html\n",
      "Parse Broken\n",
      "Article `download()` failed with 404 Client Error: Not Found for url: https://www.nytimes.com/aponline/2016/08/04/us/ap-us-senate-leader-trial.html on URL https://www.nytimes.com/aponline/2016/08/04/us/ap-us-senate-leader-trial.html\n",
      "NLP Broken\n",
      "Article `download()` failed with 404 Client Error: Not Found for url: https://www.nytimes.com/reuters/2016/08/04/us/04reuters-new-york-corruption-skelos.html on URL https://www.nytimes.com/reuters/2016/08/04/us/04reuters-new-york-corruption-skelos.html\n",
      "Parse Broken\n",
      "Article `download()` failed with 404 Client Error: Not Found for url: https://www.nytimes.com/reuters/2016/08/04/us/04reuters-new-york-corruption-skelos.html on URL https://www.nytimes.com/reuters/2016/08/04/us/04reuters-new-york-corruption-skelos.html\n",
      "NLP Broken\n",
      "Article `download()` failed with 404 Client Error: Not Found for url: https://www.nytimes.com/aponline/2016/09/07/us/politics/ap-us-campaign-2016-clinton-and-schumer.html on URL https://www.nytimes.com/aponline/2016/09/07/us/politics/ap-us-campaign-2016-clinton-and-schumer.html\n",
      "Parse Broken\n",
      "Article `download()` failed with 404 Client Error: Not Found for url: https://www.nytimes.com/aponline/2016/09/07/us/politics/ap-us-campaign-2016-clinton-and-schumer.html on URL https://www.nytimes.com/aponline/2016/09/07/us/politics/ap-us-campaign-2016-clinton-and-schumer.html\n",
      "NLP Broken\n",
      "Article `download()` failed with 404 Client Error: Not Found for url: https://www.nytimes.com/aponline/2016/09/08/us/politics/ap-us-campaign-2016-clinton-and-schumer.html on URL https://www.nytimes.com/aponline/2016/09/08/us/politics/ap-us-campaign-2016-clinton-and-schumer.html\n",
      "Parse Broken\n",
      "Article `download()` failed with 404 Client Error: Not Found for url: https://www.nytimes.com/aponline/2016/09/08/us/politics/ap-us-campaign-2016-clinton-and-schumer.html on URL https://www.nytimes.com/aponline/2016/09/08/us/politics/ap-us-campaign-2016-clinton-and-schumer.html\n",
      "NLP Broken\n"
     ]
    }
   ],
   "source": [
    "df_full = data_full.apply(get_article_details,axis=1)"
   ]
  },
  {
   "cell_type": "code",
   "execution_count": 44,
   "metadata": {},
   "outputs": [],
   "source": [
    "pd.to_pickle(df_full,\"nyt_midway\")"
   ]
  },
  {
   "cell_type": "code",
   "execution_count": null,
   "metadata": {},
   "outputs": [],
   "source": []
  }
 ],
 "metadata": {
  "kernelspec": {
   "display_name": "Python 3",
   "language": "python",
   "name": "python3"
  },
  "language_info": {
   "codemirror_mode": {
    "name": "ipython",
    "version": 3
   },
   "file_extension": ".py",
   "mimetype": "text/x-python",
   "name": "python",
   "nbconvert_exporter": "python",
   "pygments_lexer": "ipython3",
   "version": "3.6.4"
  }
 },
 "nbformat": 4,
 "nbformat_minor": 2
}
