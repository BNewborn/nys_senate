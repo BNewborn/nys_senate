{
 "cells": [
  {
   "cell_type": "code",
   "execution_count": 4,
   "metadata": {},
   "outputs": [],
   "source": [
    "import requests\n",
    "from pprint import pprint\n",
    "import numpy as np\n",
    "import pandas as pd\n",
    "import json\n",
    "import time"
   ]
  },
  {
   "cell_type": "markdown",
   "metadata": {},
   "source": [
    "https://github.com/codelucas/newspaper"
   ]
  },
  {
   "cell_type": "code",
   "execution_count": 8,
   "metadata": {},
   "outputs": [],
   "source": [
    "key = \"0bb60a51556d4a92b8228286b1c4ca2b\"\n",
    "article_base_url = \"https://api.nytimes.com/svc/search/v2/articlesearch.json\""
   ]
  },
  {
   "cell_type": "markdown",
   "metadata": {},
   "source": [
    "So what do we want from the Times? I'm going to scrape full text via another package. Probably just need the following\n",
    "* byline > original (writer name)\n",
    "* Headline > print_headline\n",
    "* Headline>Main\n",
    "* Keywords > 0 > values (?) prob not\n",
    "* new_desk\n",
    "* section_name (may not exist)\n",
    "* Source\n",
    "* snippet\n",
    "* web_url\n",
    "* pub_date\n",
    "* word_count"
   ]
  },
  {
   "cell_type": "markdown",
   "metadata": {},
   "source": [
    "#Times Link Here  \n",
    "https://www.nytimes.com/search?endDate=20190101&query=albany%20state%20senate%20senator%20new%20york&sort=best&startDate=20090101"
   ]
  },
  {
   "cell_type": "code",
   "execution_count": 10,
   "metadata": {},
   "outputs": [],
   "source": [
    "#Set Up PyMongo\n",
    "\n",
    "from pymongo import MongoClient\n",
    "\n",
    "client = MongoClient()\n",
    "db = client.ny_times\n",
    "# db.times_articles.drop()\n",
    "col = db.times_articles"
   ]
  },
  {
   "cell_type": "code",
   "execution_count": 20,
   "metadata": {},
   "outputs": [],
   "source": [
    "def get_articles(date_start,date_end):\n",
    "\n",
    "    for page in range(10,25):\n",
    "\n",
    "        params = {\n",
    "      'api-key':  'KEY_REMOVED'\n",
    "      'q': \"state senate AND New York\",\n",
    "      'begin_date': date_start,\n",
    "      'end_date': date_end,\n",
    "        'page':page\n",
    "        }\n",
    "\n",
    "        r = requests.get(article_base_url,params=params).json()\n",
    "#         pprint(r)\n",
    "        \n",
    "        try: \n",
    "            if r['response']['meta']['offset'] % 10 ==0:\n",
    "                print(f\"Offset: {r['response']['meta']['offset']}\")\n",
    "        except:\n",
    "            pprint(r)\n",
    "            return True\n",
    "        \n",
    "        try:\n",
    "            list_responses = r['response']['docs']\n",
    "        except:\n",
    "            pprint(r)\n",
    "            return True\n",
    "            \n",
    "        if list_responses == []:\n",
    "            return True\n",
    "            \n",
    "        for response in list_responses:\n",
    "            nyt_entry={}\n",
    "            for key in response:\n",
    "                nyt_entry[key] = response[key]\n",
    "            col.update_one({'_id': nyt_entry['_id']},{'$set':nyt_entry},upsert=True)\n",
    "        time.sleep(2)\n",
    "    return True"
   ]
  },
  {
   "cell_type": "code",
   "execution_count": 21,
   "metadata": {},
   "outputs": [
    {
     "name": "stdout",
     "output_type": "stream",
     "text": [
      "20160101 | 20160601\n",
      "Offset: 600\n",
      "Offset: 610\n",
      "Offset: 620\n",
      "Offset: 630\n",
      "Offset: 640\n",
      "Offset: 650\n",
      "Offset: 660\n",
      "Offset: 670\n",
      "Offset: 680\n",
      "Offset: 690\n",
      "20160601 | 20161231\n",
      "Offset: 600\n",
      "Offset: 610\n",
      "Offset: 620\n",
      "Offset: 630\n",
      "Offset: 640\n",
      "Offset: 650\n",
      "Offset: 660\n",
      "Offset: 670\n",
      "Offset: 680\n",
      "Offset: 690\n",
      "20170101 | 20170601\n",
      "Offset: 600\n",
      "Offset: 610\n",
      "Offset: 620\n",
      "Offset: 630\n",
      "Offset: 640\n",
      "Offset: 650\n",
      "Offset: 660\n",
      "Offset: 670\n",
      "Offset: 680\n",
      "Offset: 690\n",
      "20170601 | 20171231\n",
      "Offset: 600\n",
      "Offset: 610\n",
      "Offset: 620\n",
      "Offset: 630\n",
      "Offset: 640\n",
      "Offset: 650\n",
      "Offset: 660\n",
      "Offset: 670\n",
      "Offset: 680\n",
      "Offset: 690\n",
      "20180101 | 20180601\n",
      "Offset: 600\n",
      "Offset: 610\n",
      "Offset: 620\n",
      "Offset: 630\n",
      "Offset: 640\n",
      "Offset: 650\n",
      "Offset: 660\n",
      "Offset: 670\n",
      "Offset: 680\n",
      "Offset: 690\n",
      "20180601 | 20180831\n",
      "Offset: 600\n",
      "Offset: 610\n",
      "Offset: 620\n",
      "Offset: 630\n",
      "Offset: 640\n",
      "Offset: 650\n",
      "Offset: 660\n",
      "Offset: 670\n",
      "Offset: 680\n",
      "Offset: 690\n"
     ]
    }
   ],
   "source": [
    "dates = [\n",
    "(20130101,20130601)\n",
    "(20130601,20131231)\n",
    "(20140101,20140601)\n",
    "(20140601,20141231)\n",
    "(20150101,20150601)\n",
    "(20150601,20151231)\n",
    "(20160101,20160601)\n",
    ",(20160601,20161231)\n",
    ",(20170101,20170601)\n",
    ",(20170601,20171231)\n",
    ",(20180101,20180601)\n",
    ",(20180601,20180831)\n",
    "]\n",
    "for date in dates:\n",
    "    date_start = date[0]\n",
    "    date_end = date[1]\n",
    "   \n",
    "    print(f\"{date_start} | {date_end}\")\n",
    "    \n",
    "    get_articles(date_start,date_end)"
   ]
  },
  {
   "cell_type": "code",
   "execution_count": null,
   "metadata": {},
   "outputs": [],
   "source": []
  }
 ],
 "metadata": {
  "kernelspec": {
   "display_name": "Python 3",
   "language": "python",
   "name": "python3"
  },
  "language_info": {
   "codemirror_mode": {
    "name": "ipython",
    "version": 3
   },
   "file_extension": ".py",
   "mimetype": "text/x-python",
   "name": "python",
   "nbconvert_exporter": "python",
   "pygments_lexer": "ipython3",
   "version": "3.6.4"
  }
 },
 "nbformat": 4,
 "nbformat_minor": 2
}
