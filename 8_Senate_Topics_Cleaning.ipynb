{
 "cells": [
  {
   "cell_type": "code",
   "execution_count": 140,
   "metadata": {
    "ExecuteTime": {
     "end_time": "2018-06-22T19:41:59.040547Z",
     "start_time": "2018-06-22T19:41:59.028700Z"
    }
   },
   "outputs": [],
   "source": [
    "import pandas as pd\n",
    "import numpy as np\n",
    "import seaborn as sns\n",
    "import matplotlib.pyplot as plt"
   ]
  },
  {
   "cell_type": "code",
   "execution_count": 141,
   "metadata": {
    "ExecuteTime": {
     "end_time": "2018-06-22T19:42:06.517438Z",
     "start_time": "2018-06-22T19:41:59.176319Z"
    }
   },
   "outputs": [],
   "source": [
    "master = pd.read_pickle(\"nysenate_master\")\n",
    "doc_topics = pd.read_pickle(\"doc_topics_v2\")"
   ]
  },
  {
   "cell_type": "code",
   "execution_count": 142,
   "metadata": {
    "ExecuteTime": {
     "end_time": "2018-06-22T19:42:07.192251Z",
     "start_time": "2018-06-22T19:42:06.519923Z"
    }
   },
   "outputs": [
    {
     "name": "stdout",
     "output_type": "stream",
     "text": [
      "master shape: (133103, 215)\n",
      "doc topics shape: (137701, 41)\n",
      "master shape: (133098, 215)\n",
      "doc topics shape: (137701, 41)\n"
     ]
    }
   ],
   "source": [
    "print(f\"master shape: {master.shape}\")\n",
    "print(f\"doc topics shape: {doc_topics.shape}\")\n",
    "\n",
    "master = master.drop_duplicates(['basePrintNoStr','publishedDateTime'])\n",
    "# doc_topics = doc_topics.drop_duplicates()\n",
    "\n",
    "print(f\"master shape: {master.shape}\")\n",
    "print(f\"doc topics shape: {doc_topics.shape}\")"
   ]
  },
  {
   "cell_type": "code",
   "execution_count": 143,
   "metadata": {
    "ExecuteTime": {
     "end_time": "2018-06-22T19:42:08.303729Z",
     "start_time": "2018-06-22T19:42:08.263455Z"
    }
   },
   "outputs": [
    {
     "data": {
      "text/html": [
       "<div>\n",
       "<style scoped>\n",
       "    .dataframe tbody tr th:only-of-type {\n",
       "        vertical-align: middle;\n",
       "    }\n",
       "\n",
       "    .dataframe tbody tr th {\n",
       "        vertical-align: top;\n",
       "    }\n",
       "\n",
       "    .dataframe thead th {\n",
       "        text-align: right;\n",
       "    }\n",
       "</style>\n",
       "<table border=\"1\" class=\"dataframe\">\n",
       "  <thead>\n",
       "    <tr style=\"text-align: right;\">\n",
       "      <th></th>\n",
       "      <th>_id</th>\n",
       "      <th>activeVersion</th>\n",
       "      <th>adopted</th>\n",
       "      <th>approvalMessage</th>\n",
       "      <th>basePrintNo</th>\n",
       "      <th>basePrintNoStr</th>\n",
       "      <th>printNo</th>\n",
       "      <th>publishedDateTime</th>\n",
       "      <th>session_x</th>\n",
       "      <th>signed</th>\n",
       "      <th>...</th>\n",
       "      <th>replacedBy</th>\n",
       "      <th>num_amendments</th>\n",
       "      <th>previousVersion</th>\n",
       "      <th>sponsor_chamber</th>\n",
       "      <th>sponsor_district</th>\n",
       "      <th>sponsor_fullName</th>\n",
       "      <th>sponsor_shortName</th>\n",
       "      <th>max_topic</th>\n",
       "      <th>topic_desc</th>\n",
       "      <th>month</th>\n",
       "    </tr>\n",
       "  </thead>\n",
       "  <tbody>\n",
       "    <tr>\n",
       "      <th>32423</th>\n",
       "      <td>5b1c14225a67a40cd3484fa8</td>\n",
       "      <td></td>\n",
       "      <td>False</td>\n",
       "      <td>None</td>\n",
       "      <td>A1976</td>\n",
       "      <td>A1976-2011</td>\n",
       "      <td>A1976</td>\n",
       "      <td>2011-01-12 16:00:22</td>\n",
       "      <td>2011</td>\n",
       "      <td>False</td>\n",
       "      <td>...</td>\n",
       "      <td>not_replaced</td>\n",
       "      <td>1</td>\n",
       "      <td>no_previousVersion</td>\n",
       "      <td>ASSEMBLY</td>\n",
       "      <td>52.0</td>\n",
       "      <td>Joan Millman</td>\n",
       "      <td>MILLMAN</td>\n",
       "      <td>9</td>\n",
       "      <td>education, school districts</td>\n",
       "      <td>1</td>\n",
       "    </tr>\n",
       "  </tbody>\n",
       "</table>\n",
       "<p>1 rows × 215 columns</p>\n",
       "</div>"
      ],
      "text/plain": [
       "                            _id activeVersion  adopted approvalMessage  \\\n",
       "32423  5b1c14225a67a40cd3484fa8                  False            None   \n",
       "\n",
       "      basePrintNo basePrintNoStr printNo   publishedDateTime  session_x  \\\n",
       "32423       A1976     A1976-2011   A1976 2011-01-12 16:00:22       2011   \n",
       "\n",
       "       signed  ...     replacedBy num_amendments     previousVersion  \\\n",
       "32423   False  ...   not_replaced              1  no_previousVersion   \n",
       "\n",
       "       sponsor_chamber sponsor_district sponsor_fullName  sponsor_shortName  \\\n",
       "32423         ASSEMBLY             52.0     Joan Millman            MILLMAN   \n",
       "\n",
       "      max_topic                   topic_desc month  \n",
       "32423         9  education, school districts     1  \n",
       "\n",
       "[1 rows x 215 columns]"
      ]
     },
     "execution_count": 143,
     "metadata": {},
     "output_type": "execute_result"
    }
   ],
   "source": [
    "master.sample()"
   ]
  },
  {
   "cell_type": "code",
   "execution_count": 144,
   "metadata": {
    "ExecuteTime": {
     "end_time": "2018-06-22T19:42:11.821227Z",
     "start_time": "2018-06-22T19:42:11.794765Z"
    }
   },
   "outputs": [
    {
     "data": {
      "text/html": [
       "<div>\n",
       "<style scoped>\n",
       "    .dataframe tbody tr th:only-of-type {\n",
       "        vertical-align: middle;\n",
       "    }\n",
       "\n",
       "    .dataframe tbody tr th {\n",
       "        vertical-align: top;\n",
       "    }\n",
       "\n",
       "    .dataframe thead th {\n",
       "        text-align: right;\n",
       "    }\n",
       "</style>\n",
       "<table border=\"1\" class=\"dataframe\">\n",
       "  <thead>\n",
       "    <tr style=\"text-align: right;\">\n",
       "      <th></th>\n",
       "      <th>0</th>\n",
       "      <th>1</th>\n",
       "      <th>2</th>\n",
       "      <th>3</th>\n",
       "      <th>4</th>\n",
       "      <th>5</th>\n",
       "      <th>6</th>\n",
       "      <th>7</th>\n",
       "      <th>8</th>\n",
       "      <th>9</th>\n",
       "      <th>...</th>\n",
       "      <th>31</th>\n",
       "      <th>32</th>\n",
       "      <th>33</th>\n",
       "      <th>34</th>\n",
       "      <th>35</th>\n",
       "      <th>36</th>\n",
       "      <th>37</th>\n",
       "      <th>38</th>\n",
       "      <th>39</th>\n",
       "      <th>max_topic</th>\n",
       "    </tr>\n",
       "  </thead>\n",
       "  <tbody>\n",
       "    <tr>\n",
       "      <th>A5127-2017</th>\n",
       "      <td>0.000307</td>\n",
       "      <td>0.000649</td>\n",
       "      <td>0.0</td>\n",
       "      <td>0.000859</td>\n",
       "      <td>0.0</td>\n",
       "      <td>0.0017</td>\n",
       "      <td>0.0</td>\n",
       "      <td>0.0</td>\n",
       "      <td>0.036001</td>\n",
       "      <td>0.0</td>\n",
       "      <td>...</td>\n",
       "      <td>0.014383</td>\n",
       "      <td>0.000013</td>\n",
       "      <td>0.0</td>\n",
       "      <td>0.0</td>\n",
       "      <td>0.0</td>\n",
       "      <td>0.001522</td>\n",
       "      <td>0.0</td>\n",
       "      <td>0.0</td>\n",
       "      <td>0.0</td>\n",
       "      <td>8</td>\n",
       "    </tr>\n",
       "  </tbody>\n",
       "</table>\n",
       "<p>1 rows × 41 columns</p>\n",
       "</div>"
      ],
      "text/plain": [
       "                   0         1    2         3    4       5    6    7  \\\n",
       "A5127-2017  0.000307  0.000649  0.0  0.000859  0.0  0.0017  0.0  0.0   \n",
       "\n",
       "                   8    9    ...            31        32   33   34   35  \\\n",
       "A5127-2017  0.036001  0.0    ...      0.014383  0.000013  0.0  0.0  0.0   \n",
       "\n",
       "                  36   37   38   39  max_topic  \n",
       "A5127-2017  0.001522  0.0  0.0  0.0          8  \n",
       "\n",
       "[1 rows x 41 columns]"
      ]
     },
     "execution_count": 144,
     "metadata": {},
     "output_type": "execute_result"
    }
   ],
   "source": [
    "doc_topics.sample()"
   ]
  },
  {
   "cell_type": "code",
   "execution_count": 145,
   "metadata": {
    "ExecuteTime": {
     "end_time": "2018-06-22T19:42:33.091804Z",
     "start_time": "2018-06-22T19:42:33.063842Z"
    }
   },
   "outputs": [],
   "source": [
    "bn_topic_descs ={0: 'utilities',\n",
    " 1: 'businesses/employees',\n",
    " 2: 'scouts',\n",
    " 3: 'honoring resolutions',\n",
    " 4: 'property taxes',\n",
    " 5: 'criminal law',\n",
    " 6: 'education',\n",
    " 7: 'taxes',\n",
    " 8: 'health care',\n",
    " 9: 'honoring resolutions',\n",
    " 10: 'retirement systems',\n",
    " 11: 'honoring firefighters',\n",
    " 12: 'county taxes',\n",
    " 13: 'scouts',\n",
    " 14: 'scouts',\n",
    " 15: 'elections',\n",
    " 16: 'high school athletics honors',\n",
    " 17: 'criminal law',\n",
    " 18: 'insurance',\n",
    " 19: 'environmental',\n",
    " 20: 'housing policy',\n",
    " 21: 'honoring resolutions',\n",
    " 22: 'motor vehicles',\n",
    " 23: 'child services',\n",
    " 24: 'motor vehicles',\n",
    " 25: 'honoring resolutions',\n",
    " 26: 'misc',\n",
    " 27: 'sexual offenders',\n",
    " 28: 'taxes',\n",
    " 29: 'alcohol',\n",
    " 30: 'public financing',\n",
    " 31: 'amendments',\n",
    " 32: 'highways',\n",
    " 33: 'fuel standards',\n",
    " 34: 'public commissions',\n",
    " 35: 'education',\n",
    " 36: 'health care',\n",
    " 37: 'charities',\n",
    " 38: 'NY constitution',\n",
    " 39: 'animals'}"
   ]
  },
  {
   "cell_type": "code",
   "execution_count": 109,
   "metadata": {
    "ExecuteTime": {
     "end_time": "2018-06-22T17:54:58.504264Z",
     "start_time": "2018-06-22T17:54:58.463995Z"
    }
   },
   "outputs": [
    {
     "data": {
      "text/html": [
       "<div>\n",
       "<style scoped>\n",
       "    .dataframe tbody tr th:only-of-type {\n",
       "        vertical-align: middle;\n",
       "    }\n",
       "\n",
       "    .dataframe tbody tr th {\n",
       "        vertical-align: top;\n",
       "    }\n",
       "\n",
       "    .dataframe thead th {\n",
       "        text-align: right;\n",
       "    }\n",
       "</style>\n",
       "<table border=\"1\" class=\"dataframe\">\n",
       "  <thead>\n",
       "    <tr style=\"text-align: right;\">\n",
       "      <th></th>\n",
       "      <th>_id</th>\n",
       "      <th>activeVersion</th>\n",
       "      <th>adopted</th>\n",
       "      <th>approvalMessage</th>\n",
       "      <th>basePrintNo</th>\n",
       "      <th>basePrintNoStr</th>\n",
       "      <th>printNo</th>\n",
       "      <th>publishedDateTime</th>\n",
       "      <th>session_x</th>\n",
       "      <th>signed</th>\n",
       "      <th>...</th>\n",
       "      <th>replacedBy</th>\n",
       "      <th>num_amendments</th>\n",
       "      <th>previousVersion</th>\n",
       "      <th>sponsor_chamber</th>\n",
       "      <th>sponsor_district</th>\n",
       "      <th>sponsor_fullName</th>\n",
       "      <th>sponsor_shortName</th>\n",
       "      <th>max_topic</th>\n",
       "      <th>topic_desc</th>\n",
       "      <th>month</th>\n",
       "    </tr>\n",
       "  </thead>\n",
       "  <tbody>\n",
       "    <tr>\n",
       "      <th>1000</th>\n",
       "      <td>5b1c11cb5a67a40cd347d4e9</td>\n",
       "      <td>B</td>\n",
       "      <td>False</td>\n",
       "      <td>None</td>\n",
       "      <td>A4482</td>\n",
       "      <td>A4482-2009</td>\n",
       "      <td>A4482B</td>\n",
       "      <td>2009-01-01 00:00:01</td>\n",
       "      <td>2009</td>\n",
       "      <td>False</td>\n",
       "      <td>...</td>\n",
       "      <td>not_replaced</td>\n",
       "      <td>3</td>\n",
       "      <td>A4578-2007</td>\n",
       "      <td>ASSEMBLY</td>\n",
       "      <td>72.0</td>\n",
       "      <td>Adriano Espaillat</td>\n",
       "      <td>ESPAILLAT</td>\n",
       "      <td>A4482-2009    0.0\n",
       "A4482-2009    0.0\n",
       "A4482-2009...</td>\n",
       "      <td>no_topic_desc</td>\n",
       "      <td>2</td>\n",
       "    </tr>\n",
       "  </tbody>\n",
       "</table>\n",
       "<p>1 rows × 215 columns</p>\n",
       "</div>"
      ],
      "text/plain": [
       "                           _id activeVersion  adopted approvalMessage  \\\n",
       "1000  5b1c11cb5a67a40cd347d4e9             B    False            None   \n",
       "\n",
       "     basePrintNo basePrintNoStr printNo   publishedDateTime  session_x  \\\n",
       "1000       A4482     A4482-2009  A4482B 2009-01-01 00:00:01       2009   \n",
       "\n",
       "      signed  ...     replacedBy num_amendments  previousVersion  \\\n",
       "1000   False  ...   not_replaced              3       A4578-2007   \n",
       "\n",
       "      sponsor_chamber sponsor_district   sponsor_fullName  sponsor_shortName  \\\n",
       "1000         ASSEMBLY             72.0  Adriano Espaillat          ESPAILLAT   \n",
       "\n",
       "                                              max_topic     topic_desc month  \n",
       "1000  A4482-2009    0.0\n",
       "A4482-2009    0.0\n",
       "A4482-2009...  no_topic_desc     2  \n",
       "\n",
       "[1 rows x 215 columns]"
      ]
     },
     "execution_count": 109,
     "metadata": {},
     "output_type": "execute_result"
    }
   ],
   "source": [
    "master[master['basePrintNoStr']==\"A4482-2009\"]\n",
    "# master[master['_id']==\"5b1c11ca5a67a40cd347d467\"]\n",
    "# master.dtypes"
   ]
  },
  {
   "cell_type": "code",
   "execution_count": 147,
   "metadata": {
    "ExecuteTime": {
     "end_time": "2018-06-22T19:50:12.580034Z",
     "start_time": "2018-06-22T19:44:13.363964Z"
    }
   },
   "outputs": [],
   "source": [
    "def update_maxtopic(row):\n",
    "    bpns = row['basePrintNoStr']\n",
    "    new_max_topic = doc_topics.loc[bpns]['max_topic']\n",
    "#     print(row['max_topic'])\n",
    "#     print(row['topic_desc'])\n",
    "#     print(row['basePrintNoStr'])\n",
    "    \n",
    "    row['max_topic'] = new_max_topic\n",
    "#     print(new_max_topic)\n",
    "#     print(row['_id'])\n",
    "    try:\n",
    "        row['topic_desc'] = bn_topic_descs[new_max_topic]\n",
    "    except:\n",
    "        row['topic_desc'] = 'manual_topic_input'\n",
    "    \n",
    "#     print(\"*\"*50)\n",
    "    return row\n",
    "\n",
    "# master = master.apply(update_maxtopic,axis=1)\n",
    "master = master.apply(update_maxtopic,axis=1)"
   ]
  },
  {
   "cell_type": "markdown",
   "metadata": {
    "ExecuteTime": {
     "start_time": "2018-06-22T13:10:34.516Z"
    }
   },
   "source": [
    "Need to review topics 3,6,26 . "
   ]
  },
  {
   "cell_type": "code",
   "execution_count": 70,
   "metadata": {
    "ExecuteTime": {
     "end_time": "2018-06-22T17:41:53.146664Z",
     "start_time": "2018-06-22T17:41:53.137371Z"
    }
   },
   "outputs": [],
   "source": []
  },
  {
   "cell_type": "code",
   "execution_count": 124,
   "metadata": {
    "ExecuteTime": {
     "end_time": "2018-06-22T18:03:51.029834Z",
     "start_time": "2018-06-22T18:03:18.268643Z"
    }
   },
   "outputs": [],
   "source": [
    "# counter = 0\n",
    "# def update_topicdesc(row):\n",
    "#     mx_top = row['max_topic']\n",
    "#     try:\n",
    "#         row['topic_desc'] = bn_topic_descs[mx_top]\n",
    "#     except:\n",
    "#         row['topic_desc'] = 'no_topic_desc'\n",
    "# #         counter +=1\n",
    "#     return row\n",
    "# master = master.apply(update_topicdesc,axis=1)"
   ]
  },
  {
   "cell_type": "code",
   "execution_count": null,
   "metadata": {},
   "outputs": [],
   "source": [
    "# Bill: A4482-2009\n",
    "# Doc Topic: 0.0\n",
    "# **************************************************\n",
    "# Bill: A405-2011\n",
    "# Doc Topic: 20.0\n",
    "# **************************************************\n",
    "# Bill: S829-2013\n",
    "# Doc Topic: 39.0\n",
    "# **************************************************\n",
    "# Bill: A456-2015\n",
    "# Doc Topic: 30.0\n",
    "# **************************************************\n",
    "# Bill: S778-2017\n",
    "# Doc Topic: 20.0\n",
    "# **************************************************"
   ]
  },
  {
   "cell_type": "code",
   "execution_count": 151,
   "metadata": {
    "ExecuteTime": {
     "end_time": "2018-06-22T19:51:01.524967Z",
     "start_time": "2018-06-22T19:50:44.001748Z"
    }
   },
   "outputs": [
    {
     "name": "stdout",
     "output_type": "stream",
     "text": [
      "Bill: A4482-2009 | idx: 1000\n",
      "Bill: A405-2011 | idx: 29496\n",
      "Bill: S829-2013 | idx: 55242\n",
      "Bill: A456-2015 | idx: 80814\n",
      "Bill: S778-2017 | idx: 107427\n",
      "--------------------------------------------------\n",
      "Bill: A4482-2009\n",
      "Doc Topic: 0\n",
      "**************************************************\n",
      "Bill: A405-2011\n",
      "Doc Topic: 36\n",
      "**************************************************\n",
      "Bill: S829-2013\n",
      "Doc Topic: 37\n",
      "**************************************************\n",
      "Bill: A456-2015\n",
      "Doc Topic: 33\n",
      "**************************************************\n",
      "Bill: S778-2017\n",
      "Doc Topic: 18\n",
      "**************************************************\n"
     ]
    }
   ],
   "source": [
    "update_dict={}\n",
    "for idx, row in master.iterrows():\n",
    "    if row['topic_desc'] == 'manual_topic_input':\n",
    "        update_dict[row['basePrintNoStr']] = [idx]\n",
    "        print(f\"Bill: {row['basePrintNoStr']} | idx: {idx}\")\n",
    "print(\"-\"*50)\n",
    "for nb in master[master['topic_desc']==\"manual_topic_input\"]['basePrintNoStr'].values:\n",
    "    print(f\"Bill: {nb}\")\n",
    "    print(f\"Doc Topic: {doc_topics.loc[nb]['max_topic'].min()}\")\n",
    "    update_dict[nb].append(doc_topics.loc[nb]['max_topic'].min())\n",
    "    print(\"*\"*50)\n",
    "    \n",
    "for bill, idx_topic in update_dict.items():\n",
    "    master.loc[idx_topic[0],'max_topic'] = idx_topic[1]\n",
    "    master.loc[idx_topic[0],'topic_desc'] = bn_topic_descs[idx_topic[1]]\n",
    "    print(master.loc[idx_topic[0]])"
   ]
  },
  {
   "cell_type": "code",
   "execution_count": 167,
   "metadata": {
    "ExecuteTime": {
     "end_time": "2018-06-22T20:09:24.503434Z",
     "start_time": "2018-06-22T20:09:16.432049Z"
    }
   },
   "outputs": [],
   "source": [
    "pd.to_pickle(master,\"nysenate_master_new\")"
   ]
  }
 ],
 "metadata": {
  "kernelspec": {
   "display_name": "Python 3",
   "language": "python",
   "name": "python3"
  },
  "language_info": {
   "codemirror_mode": {
    "name": "ipython",
    "version": 3
   },
   "file_extension": ".py",
   "mimetype": "text/x-python",
   "name": "python",
   "nbconvert_exporter": "python",
   "pygments_lexer": "ipython3",
   "version": "3.6.4"
  }
 },
 "nbformat": 4,
 "nbformat_minor": 2
}
